{
  "cells": [
    {
      "cell_type": "markdown",
      "metadata": {
        "id": "2ei_wNjwbMVN"
      },
      "source": [
        "## **Project 8 Ensemble Methods**\n",
        "\n",
        "## **TODO: Tiffany Akwarandu\n",
        "\n",
        "### **Introduction**  \n",
        "\n",
        "You are a data analyst at a **financial services company**, tasked with improving the effectiveness of a **marketing campaign** that promotes term deposit subscriptions. Your goal is to build a **machine learning model** that predicts whether a customer will subscribe to a term deposit based on their demographics, banking history, and previous interactions with the campaign.  \n",
        "\n",
        "To improve prediction accuracy and model robustness, you will explore three **ensemble methods**:  \n",
        "\n",
        "- **AdaBoost**  \n",
        "- **XGBoost**  \n",
        "- **Random Forest**  \n",
        "\n",
        "At the end of the assignment, you will analyze and compare the performance of these models and recommend the best approach for **optimizing marketing outreach** and improving customer conversion rates.  \n",
        "\n",
        "### **Dataset**  \n",
        "\n",
        "To accomplish this task, you will use the **Bank Marketing Dataset** from Kaggle:  \n",
        "\n",
        "🔗 **Dataset Link:** [Bank Marketing Dataset](https://www.kaggle.com/datasets/janiobachmann/bank-marketing-dataset/data)  You can review the annotations about the dataset on the Kaggle site but the CSV file is also provided with your assignment.\n",
        "\n",
        "This dataset consists of **over 11,000 customer records**, each containing demographic and financial attributes, as well as details of previous marketing interactions. The key features in this dataset include:  \n",
        "\n",
        "- **Age**: Customer’s age.  \n",
        "- **Job**: Type of job (e.g., admin, blue-collar, technician, services).  \n",
        "- **Marital Status**: Single, married, or divorced.  \n",
        "- **Education**: Level of education attained.  \n",
        "- **Balance**: Customer's account balance.  \n",
        "- **Housing Loan**: Whether the customer has a housing loan (yes/no).  \n",
        "- **Personal Loan**: Whether the customer has a personal loan (yes/no).  \n",
        "- **Contact Method**: Communication type (e.g., cellular, telephone).  \n",
        "- **Last Campaign Outcome**: Result of the previous marketing campaign.  \n",
        "- **Duration**: Call duration in seconds.  \n",
        "\n",
        "The **target variable** is **\"deposit\"**, which indicates whether the customer subscribed to a term deposit (**1/0**).  \n",
        "\n",
        "### **Task**  \n",
        "\n",
        "Your objective is to develop and compare different **ensemble learning models** to predict whether a customer will subscribe to a term deposit and determine which model performs best for **targeted marketing optimization**.  \n"
      ]
    },
    {
      "cell_type": "code",
      "execution_count": null,
      "metadata": {
        "id": "jETuQ9egbKwd"
      },
      "outputs": [],
      "source": [
        "# These are the libraries you will use for this assignment, you may not import anything else\n",
        "import pandas as pd\n",
        "import numpy as np\n",
        "import seaborn as sns\n",
        "import matplotlib.pyplot as plt\n",
        "%matplotlib inline\n",
        "from sklearn.ensemble import AdaBoostClassifier\n",
        "from sklearn.ensemble import RandomForestClassifier\n",
        "from sklearn.model_selection import StratifiedKFold\n",
        "from sklearn.metrics import roc_curve, RocCurveDisplay, auc\n",
        "from xgboost import XGBClassifier\n",
        "import time"
      ]
    },
    {
      "cell_type": "markdown",
      "metadata": {
        "id": "Y3Ns5SJsuatf"
      },
      "source": [
        "#### **Utilizing the provided Bank Marketing Dataset data, we will employ methods from sklearn for cross-validation to estimate error.**\n",
        "\n"
      ]
    },
    {
      "cell_type": "code",
      "execution_count": null,
      "metadata": {
        "id": "bLzRJgHTuaTW"
      },
      "outputs": [],
      "source": [
        "df = pd.read_csv('bank.csv')"
      ]
    },
    {
      "cell_type": "code",
      "source": [
        "# Print the shape\n",
        "df.shape\n",
        "\n",
        "\n",
        "\n"
      ],
      "metadata": {
        "id": "JYtC56mVN3HJ",
        "colab": {
          "base_uri": "https://localhost:8080/"
        },
        "outputId": "694900b2-4077-4229-9604-b83afd14d889"
      },
      "execution_count": null,
      "outputs": [
        {
          "output_type": "execute_result",
          "data": {
            "text/plain": [
              "(11162, 17)"
            ]
          },
          "metadata": {},
          "execution_count": 9
        }
      ]
    },
    {
      "cell_type": "code",
      "source": [
        "# Print head of DF\n",
        "df.head()\n"
      ],
      "metadata": {
        "id": "wg9PXU7Rsg3V",
        "colab": {
          "base_uri": "https://localhost:8080/",
          "height": 206
        },
        "outputId": "a9f4d4e6-17e0-4ef3-edf0-a784c1af99d4"
      },
      "execution_count": null,
      "outputs": [
        {
          "output_type": "execute_result",
          "data": {
            "text/plain": [
              "   age         job  marital  education default  balance housing loan  contact  \\\n",
              "0   59      admin.  married  secondary      no     2343     yes   no  unknown   \n",
              "1   56      admin.  married  secondary      no       45      no   no  unknown   \n",
              "2   41  technician  married  secondary      no     1270     yes   no  unknown   \n",
              "3   55    services  married  secondary      no     2476     yes   no  unknown   \n",
              "4   54      admin.  married   tertiary      no      184      no   no  unknown   \n",
              "\n",
              "   day month  duration  campaign  pdays  previous poutcome deposit  \n",
              "0    5   may      1042         1     -1         0  unknown     yes  \n",
              "1    5   may      1467         1     -1         0  unknown     yes  \n",
              "2    5   may      1389         1     -1         0  unknown     yes  \n",
              "3    5   may       579         1     -1         0  unknown     yes  \n",
              "4    5   may       673         2     -1         0  unknown     yes  "
            ],
            "text/html": [
              "\n",
              "  <div id=\"df-aba7b5c0-9de6-4e72-85de-9e8cc89a5350\" class=\"colab-df-container\">\n",
              "    <div>\n",
              "<style scoped>\n",
              "    .dataframe tbody tr th:only-of-type {\n",
              "        vertical-align: middle;\n",
              "    }\n",
              "\n",
              "    .dataframe tbody tr th {\n",
              "        vertical-align: top;\n",
              "    }\n",
              "\n",
              "    .dataframe thead th {\n",
              "        text-align: right;\n",
              "    }\n",
              "</style>\n",
              "<table border=\"1\" class=\"dataframe\">\n",
              "  <thead>\n",
              "    <tr style=\"text-align: right;\">\n",
              "      <th></th>\n",
              "      <th>age</th>\n",
              "      <th>job</th>\n",
              "      <th>marital</th>\n",
              "      <th>education</th>\n",
              "      <th>default</th>\n",
              "      <th>balance</th>\n",
              "      <th>housing</th>\n",
              "      <th>loan</th>\n",
              "      <th>contact</th>\n",
              "      <th>day</th>\n",
              "      <th>month</th>\n",
              "      <th>duration</th>\n",
              "      <th>campaign</th>\n",
              "      <th>pdays</th>\n",
              "      <th>previous</th>\n",
              "      <th>poutcome</th>\n",
              "      <th>deposit</th>\n",
              "    </tr>\n",
              "  </thead>\n",
              "  <tbody>\n",
              "    <tr>\n",
              "      <th>0</th>\n",
              "      <td>59</td>\n",
              "      <td>admin.</td>\n",
              "      <td>married</td>\n",
              "      <td>secondary</td>\n",
              "      <td>no</td>\n",
              "      <td>2343</td>\n",
              "      <td>yes</td>\n",
              "      <td>no</td>\n",
              "      <td>unknown</td>\n",
              "      <td>5</td>\n",
              "      <td>may</td>\n",
              "      <td>1042</td>\n",
              "      <td>1</td>\n",
              "      <td>-1</td>\n",
              "      <td>0</td>\n",
              "      <td>unknown</td>\n",
              "      <td>yes</td>\n",
              "    </tr>\n",
              "    <tr>\n",
              "      <th>1</th>\n",
              "      <td>56</td>\n",
              "      <td>admin.</td>\n",
              "      <td>married</td>\n",
              "      <td>secondary</td>\n",
              "      <td>no</td>\n",
              "      <td>45</td>\n",
              "      <td>no</td>\n",
              "      <td>no</td>\n",
              "      <td>unknown</td>\n",
              "      <td>5</td>\n",
              "      <td>may</td>\n",
              "      <td>1467</td>\n",
              "      <td>1</td>\n",
              "      <td>-1</td>\n",
              "      <td>0</td>\n",
              "      <td>unknown</td>\n",
              "      <td>yes</td>\n",
              "    </tr>\n",
              "    <tr>\n",
              "      <th>2</th>\n",
              "      <td>41</td>\n",
              "      <td>technician</td>\n",
              "      <td>married</td>\n",
              "      <td>secondary</td>\n",
              "      <td>no</td>\n",
              "      <td>1270</td>\n",
              "      <td>yes</td>\n",
              "      <td>no</td>\n",
              "      <td>unknown</td>\n",
              "      <td>5</td>\n",
              "      <td>may</td>\n",
              "      <td>1389</td>\n",
              "      <td>1</td>\n",
              "      <td>-1</td>\n",
              "      <td>0</td>\n",
              "      <td>unknown</td>\n",
              "      <td>yes</td>\n",
              "    </tr>\n",
              "    <tr>\n",
              "      <th>3</th>\n",
              "      <td>55</td>\n",
              "      <td>services</td>\n",
              "      <td>married</td>\n",
              "      <td>secondary</td>\n",
              "      <td>no</td>\n",
              "      <td>2476</td>\n",
              "      <td>yes</td>\n",
              "      <td>no</td>\n",
              "      <td>unknown</td>\n",
              "      <td>5</td>\n",
              "      <td>may</td>\n",
              "      <td>579</td>\n",
              "      <td>1</td>\n",
              "      <td>-1</td>\n",
              "      <td>0</td>\n",
              "      <td>unknown</td>\n",
              "      <td>yes</td>\n",
              "    </tr>\n",
              "    <tr>\n",
              "      <th>4</th>\n",
              "      <td>54</td>\n",
              "      <td>admin.</td>\n",
              "      <td>married</td>\n",
              "      <td>tertiary</td>\n",
              "      <td>no</td>\n",
              "      <td>184</td>\n",
              "      <td>no</td>\n",
              "      <td>no</td>\n",
              "      <td>unknown</td>\n",
              "      <td>5</td>\n",
              "      <td>may</td>\n",
              "      <td>673</td>\n",
              "      <td>2</td>\n",
              "      <td>-1</td>\n",
              "      <td>0</td>\n",
              "      <td>unknown</td>\n",
              "      <td>yes</td>\n",
              "    </tr>\n",
              "  </tbody>\n",
              "</table>\n",
              "</div>\n",
              "    <div class=\"colab-df-buttons\">\n",
              "\n",
              "  <div class=\"colab-df-container\">\n",
              "    <button class=\"colab-df-convert\" onclick=\"convertToInteractive('df-aba7b5c0-9de6-4e72-85de-9e8cc89a5350')\"\n",
              "            title=\"Convert this dataframe to an interactive table.\"\n",
              "            style=\"display:none;\">\n",
              "\n",
              "  <svg xmlns=\"http://www.w3.org/2000/svg\" height=\"24px\" viewBox=\"0 -960 960 960\">\n",
              "    <path d=\"M120-120v-720h720v720H120Zm60-500h600v-160H180v160Zm220 220h160v-160H400v160Zm0 220h160v-160H400v160ZM180-400h160v-160H180v160Zm440 0h160v-160H620v160ZM180-180h160v-160H180v160Zm440 0h160v-160H620v160Z\"/>\n",
              "  </svg>\n",
              "    </button>\n",
              "\n",
              "  <style>\n",
              "    .colab-df-container {\n",
              "      display:flex;\n",
              "      gap: 12px;\n",
              "    }\n",
              "\n",
              "    .colab-df-convert {\n",
              "      background-color: #E8F0FE;\n",
              "      border: none;\n",
              "      border-radius: 50%;\n",
              "      cursor: pointer;\n",
              "      display: none;\n",
              "      fill: #1967D2;\n",
              "      height: 32px;\n",
              "      padding: 0 0 0 0;\n",
              "      width: 32px;\n",
              "    }\n",
              "\n",
              "    .colab-df-convert:hover {\n",
              "      background-color: #E2EBFA;\n",
              "      box-shadow: 0px 1px 2px rgba(60, 64, 67, 0.3), 0px 1px 3px 1px rgba(60, 64, 67, 0.15);\n",
              "      fill: #174EA6;\n",
              "    }\n",
              "\n",
              "    .colab-df-buttons div {\n",
              "      margin-bottom: 4px;\n",
              "    }\n",
              "\n",
              "    [theme=dark] .colab-df-convert {\n",
              "      background-color: #3B4455;\n",
              "      fill: #D2E3FC;\n",
              "    }\n",
              "\n",
              "    [theme=dark] .colab-df-convert:hover {\n",
              "      background-color: #434B5C;\n",
              "      box-shadow: 0px 1px 3px 1px rgba(0, 0, 0, 0.15);\n",
              "      filter: drop-shadow(0px 1px 2px rgba(0, 0, 0, 0.3));\n",
              "      fill: #FFFFFF;\n",
              "    }\n",
              "  </style>\n",
              "\n",
              "    <script>\n",
              "      const buttonEl =\n",
              "        document.querySelector('#df-aba7b5c0-9de6-4e72-85de-9e8cc89a5350 button.colab-df-convert');\n",
              "      buttonEl.style.display =\n",
              "        google.colab.kernel.accessAllowed ? 'block' : 'none';\n",
              "\n",
              "      async function convertToInteractive(key) {\n",
              "        const element = document.querySelector('#df-aba7b5c0-9de6-4e72-85de-9e8cc89a5350');\n",
              "        const dataTable =\n",
              "          await google.colab.kernel.invokeFunction('convertToInteractive',\n",
              "                                                    [key], {});\n",
              "        if (!dataTable) return;\n",
              "\n",
              "        const docLinkHtml = 'Like what you see? Visit the ' +\n",
              "          '<a target=\"_blank\" href=https://colab.research.google.com/notebooks/data_table.ipynb>data table notebook</a>'\n",
              "          + ' to learn more about interactive tables.';\n",
              "        element.innerHTML = '';\n",
              "        dataTable['output_type'] = 'display_data';\n",
              "        await google.colab.output.renderOutput(dataTable, element);\n",
              "        const docLink = document.createElement('div');\n",
              "        docLink.innerHTML = docLinkHtml;\n",
              "        element.appendChild(docLink);\n",
              "      }\n",
              "    </script>\n",
              "  </div>\n",
              "\n",
              "\n",
              "<div id=\"df-b81e3153-e856-4592-99fd-3ec4d22d1d7d\">\n",
              "  <button class=\"colab-df-quickchart\" onclick=\"quickchart('df-b81e3153-e856-4592-99fd-3ec4d22d1d7d')\"\n",
              "            title=\"Suggest charts\"\n",
              "            style=\"display:none;\">\n",
              "\n",
              "<svg xmlns=\"http://www.w3.org/2000/svg\" height=\"24px\"viewBox=\"0 0 24 24\"\n",
              "     width=\"24px\">\n",
              "    <g>\n",
              "        <path d=\"M19 3H5c-1.1 0-2 .9-2 2v14c0 1.1.9 2 2 2h14c1.1 0 2-.9 2-2V5c0-1.1-.9-2-2-2zM9 17H7v-7h2v7zm4 0h-2V7h2v10zm4 0h-2v-4h2v4z\"/>\n",
              "    </g>\n",
              "</svg>\n",
              "  </button>\n",
              "\n",
              "<style>\n",
              "  .colab-df-quickchart {\n",
              "      --bg-color: #E8F0FE;\n",
              "      --fill-color: #1967D2;\n",
              "      --hover-bg-color: #E2EBFA;\n",
              "      --hover-fill-color: #174EA6;\n",
              "      --disabled-fill-color: #AAA;\n",
              "      --disabled-bg-color: #DDD;\n",
              "  }\n",
              "\n",
              "  [theme=dark] .colab-df-quickchart {\n",
              "      --bg-color: #3B4455;\n",
              "      --fill-color: #D2E3FC;\n",
              "      --hover-bg-color: #434B5C;\n",
              "      --hover-fill-color: #FFFFFF;\n",
              "      --disabled-bg-color: #3B4455;\n",
              "      --disabled-fill-color: #666;\n",
              "  }\n",
              "\n",
              "  .colab-df-quickchart {\n",
              "    background-color: var(--bg-color);\n",
              "    border: none;\n",
              "    border-radius: 50%;\n",
              "    cursor: pointer;\n",
              "    display: none;\n",
              "    fill: var(--fill-color);\n",
              "    height: 32px;\n",
              "    padding: 0;\n",
              "    width: 32px;\n",
              "  }\n",
              "\n",
              "  .colab-df-quickchart:hover {\n",
              "    background-color: var(--hover-bg-color);\n",
              "    box-shadow: 0 1px 2px rgba(60, 64, 67, 0.3), 0 1px 3px 1px rgba(60, 64, 67, 0.15);\n",
              "    fill: var(--button-hover-fill-color);\n",
              "  }\n",
              "\n",
              "  .colab-df-quickchart-complete:disabled,\n",
              "  .colab-df-quickchart-complete:disabled:hover {\n",
              "    background-color: var(--disabled-bg-color);\n",
              "    fill: var(--disabled-fill-color);\n",
              "    box-shadow: none;\n",
              "  }\n",
              "\n",
              "  .colab-df-spinner {\n",
              "    border: 2px solid var(--fill-color);\n",
              "    border-color: transparent;\n",
              "    border-bottom-color: var(--fill-color);\n",
              "    animation:\n",
              "      spin 1s steps(1) infinite;\n",
              "  }\n",
              "\n",
              "  @keyframes spin {\n",
              "    0% {\n",
              "      border-color: transparent;\n",
              "      border-bottom-color: var(--fill-color);\n",
              "      border-left-color: var(--fill-color);\n",
              "    }\n",
              "    20% {\n",
              "      border-color: transparent;\n",
              "      border-left-color: var(--fill-color);\n",
              "      border-top-color: var(--fill-color);\n",
              "    }\n",
              "    30% {\n",
              "      border-color: transparent;\n",
              "      border-left-color: var(--fill-color);\n",
              "      border-top-color: var(--fill-color);\n",
              "      border-right-color: var(--fill-color);\n",
              "    }\n",
              "    40% {\n",
              "      border-color: transparent;\n",
              "      border-right-color: var(--fill-color);\n",
              "      border-top-color: var(--fill-color);\n",
              "    }\n",
              "    60% {\n",
              "      border-color: transparent;\n",
              "      border-right-color: var(--fill-color);\n",
              "    }\n",
              "    80% {\n",
              "      border-color: transparent;\n",
              "      border-right-color: var(--fill-color);\n",
              "      border-bottom-color: var(--fill-color);\n",
              "    }\n",
              "    90% {\n",
              "      border-color: transparent;\n",
              "      border-bottom-color: var(--fill-color);\n",
              "    }\n",
              "  }\n",
              "</style>\n",
              "\n",
              "  <script>\n",
              "    async function quickchart(key) {\n",
              "      const quickchartButtonEl =\n",
              "        document.querySelector('#' + key + ' button');\n",
              "      quickchartButtonEl.disabled = true;  // To prevent multiple clicks.\n",
              "      quickchartButtonEl.classList.add('colab-df-spinner');\n",
              "      try {\n",
              "        const charts = await google.colab.kernel.invokeFunction(\n",
              "            'suggestCharts', [key], {});\n",
              "      } catch (error) {\n",
              "        console.error('Error during call to suggestCharts:', error);\n",
              "      }\n",
              "      quickchartButtonEl.classList.remove('colab-df-spinner');\n",
              "      quickchartButtonEl.classList.add('colab-df-quickchart-complete');\n",
              "    }\n",
              "    (() => {\n",
              "      let quickchartButtonEl =\n",
              "        document.querySelector('#df-b81e3153-e856-4592-99fd-3ec4d22d1d7d button');\n",
              "      quickchartButtonEl.style.display =\n",
              "        google.colab.kernel.accessAllowed ? 'block' : 'none';\n",
              "    })();\n",
              "  </script>\n",
              "</div>\n",
              "\n",
              "    </div>\n",
              "  </div>\n"
            ],
            "application/vnd.google.colaboratory.intrinsic+json": {
              "type": "dataframe",
              "variable_name": "df",
              "summary": "{\n  \"name\": \"df\",\n  \"rows\": 11162,\n  \"fields\": [\n    {\n      \"column\": \"age\",\n      \"properties\": {\n        \"dtype\": \"number\",\n        \"std\": 11,\n        \"min\": 18,\n        \"max\": 95,\n        \"num_unique_values\": 76,\n        \"samples\": [\n          54,\n          47,\n          30\n        ],\n        \"semantic_type\": \"\",\n        \"description\": \"\"\n      }\n    },\n    {\n      \"column\": \"job\",\n      \"properties\": {\n        \"dtype\": \"category\",\n        \"num_unique_values\": 12,\n        \"samples\": [\n          \"self-employed\",\n          \"unknown\",\n          \"admin.\"\n        ],\n        \"semantic_type\": \"\",\n        \"description\": \"\"\n      }\n    },\n    {\n      \"column\": \"marital\",\n      \"properties\": {\n        \"dtype\": \"category\",\n        \"num_unique_values\": 3,\n        \"samples\": [\n          \"married\",\n          \"single\",\n          \"divorced\"\n        ],\n        \"semantic_type\": \"\",\n        \"description\": \"\"\n      }\n    },\n    {\n      \"column\": \"education\",\n      \"properties\": {\n        \"dtype\": \"category\",\n        \"num_unique_values\": 4,\n        \"samples\": [\n          \"tertiary\",\n          \"unknown\",\n          \"secondary\"\n        ],\n        \"semantic_type\": \"\",\n        \"description\": \"\"\n      }\n    },\n    {\n      \"column\": \"default\",\n      \"properties\": {\n        \"dtype\": \"category\",\n        \"num_unique_values\": 2,\n        \"samples\": [\n          \"yes\",\n          \"no\"\n        ],\n        \"semantic_type\": \"\",\n        \"description\": \"\"\n      }\n    },\n    {\n      \"column\": \"balance\",\n      \"properties\": {\n        \"dtype\": \"number\",\n        \"std\": 3225,\n        \"min\": -6847,\n        \"max\": 81204,\n        \"num_unique_values\": 3805,\n        \"samples\": [\n          3026,\n          1792\n        ],\n        \"semantic_type\": \"\",\n        \"description\": \"\"\n      }\n    },\n    {\n      \"column\": \"housing\",\n      \"properties\": {\n        \"dtype\": \"category\",\n        \"num_unique_values\": 2,\n        \"samples\": [\n          \"no\",\n          \"yes\"\n        ],\n        \"semantic_type\": \"\",\n        \"description\": \"\"\n      }\n    },\n    {\n      \"column\": \"loan\",\n      \"properties\": {\n        \"dtype\": \"category\",\n        \"num_unique_values\": 2,\n        \"samples\": [\n          \"yes\",\n          \"no\"\n        ],\n        \"semantic_type\": \"\",\n        \"description\": \"\"\n      }\n    },\n    {\n      \"column\": \"contact\",\n      \"properties\": {\n        \"dtype\": \"category\",\n        \"num_unique_values\": 3,\n        \"samples\": [\n          \"unknown\",\n          \"cellular\"\n        ],\n        \"semantic_type\": \"\",\n        \"description\": \"\"\n      }\n    },\n    {\n      \"column\": \"day\",\n      \"properties\": {\n        \"dtype\": \"number\",\n        \"std\": 8,\n        \"min\": 1,\n        \"max\": 31,\n        \"num_unique_values\": 31,\n        \"samples\": [\n          10,\n          27\n        ],\n        \"semantic_type\": \"\",\n        \"description\": \"\"\n      }\n    },\n    {\n      \"column\": \"month\",\n      \"properties\": {\n        \"dtype\": \"category\",\n        \"num_unique_values\": 12,\n        \"samples\": [\n          \"apr\",\n          \"mar\"\n        ],\n        \"semantic_type\": \"\",\n        \"description\": \"\"\n      }\n    },\n    {\n      \"column\": \"duration\",\n      \"properties\": {\n        \"dtype\": \"number\",\n        \"std\": 347,\n        \"min\": 2,\n        \"max\": 3881,\n        \"num_unique_values\": 1428,\n        \"samples\": [\n          597,\n          346\n        ],\n        \"semantic_type\": \"\",\n        \"description\": \"\"\n      }\n    },\n    {\n      \"column\": \"campaign\",\n      \"properties\": {\n        \"dtype\": \"number\",\n        \"std\": 2,\n        \"min\": 1,\n        \"max\": 63,\n        \"num_unique_values\": 36,\n        \"samples\": [\n          31,\n          7\n        ],\n        \"semantic_type\": \"\",\n        \"description\": \"\"\n      }\n    },\n    {\n      \"column\": \"pdays\",\n      \"properties\": {\n        \"dtype\": \"number\",\n        \"std\": 108,\n        \"min\": -1,\n        \"max\": 854,\n        \"num_unique_values\": 472,\n        \"samples\": [\n          294,\n          148\n        ],\n        \"semantic_type\": \"\",\n        \"description\": \"\"\n      }\n    },\n    {\n      \"column\": \"previous\",\n      \"properties\": {\n        \"dtype\": \"number\",\n        \"std\": 2,\n        \"min\": 0,\n        \"max\": 58,\n        \"num_unique_values\": 34,\n        \"samples\": [\n          30,\n          14\n        ],\n        \"semantic_type\": \"\",\n        \"description\": \"\"\n      }\n    },\n    {\n      \"column\": \"poutcome\",\n      \"properties\": {\n        \"dtype\": \"category\",\n        \"num_unique_values\": 4,\n        \"samples\": [\n          \"other\",\n          \"success\"\n        ],\n        \"semantic_type\": \"\",\n        \"description\": \"\"\n      }\n    },\n    {\n      \"column\": \"deposit\",\n      \"properties\": {\n        \"dtype\": \"category\",\n        \"num_unique_values\": 2,\n        \"samples\": [\n          \"no\",\n          \"yes\"\n        ],\n        \"semantic_type\": \"\",\n        \"description\": \"\"\n      }\n    }\n  ]\n}"
            }
          },
          "metadata": {},
          "execution_count": 10
        }
      ]
    },
    {
      "cell_type": "markdown",
      "source": [
        "## **Q1: Exploratory Data Analysis (EDA)**\n",
        "\n",
        "Explore the dataset.\n",
        "\n",
        "**1.1 Class Distribution**  \n",
        "- Plot the distribution of the target variable (`deposit`).  \n",
        "\n",
        "**1.2 Unique Values & Data Quality Check**  \n",
        "- Display the unique values for at least two categorical features (e.g., `job` and `education`).\n",
        "\n",
        "**1.3 Grouped Analysis**\n",
        "- Use **groupby()** to analyze the average **balance** of customers based on their **education** level.\n",
        "- Do the same thing for **marital** status. Print both values.\n",
        "\n",
        "**1.4 Visualizing a Numerical Feature**  \n",
        "- Plot the `age` column to observe the distribution of customer ages.  "
      ],
      "metadata": {
        "id": "d8WjtDweKTH_"
      }
    },
    {
      "cell_type": "code",
      "source": [
        "# 1.1 Class Distribution\n",
        "plt.figure(figsize=(6,4))\n",
        "sns.countplot(x=df['deposit'])\n",
        "plt.title('Class Distribution')\n",
        "plt.xlabel('Deposit')\n",
        "plt.ylabel('Count')\n",
        "plt.show()\n"
      ],
      "metadata": {
        "id": "wLqPzCjAKSUU",
        "colab": {
          "base_uri": "https://localhost:8080/",
          "height": 410
        },
        "outputId": "41386b40-5458-491d-e84e-e92ea93b6da5"
      },
      "execution_count": null,
      "outputs": [
        {
          "output_type": "display_data",
          "data": {
            "text/plain": [
              "<Figure size 600x400 with 1 Axes>"
            ],
            "image/png": "[encoded data removed]"
          },
          "metadata": {}
        }
      ]
    },
    {
      "cell_type": "code",
      "source": [
        "# 1.2 Unique Values & Data Quality Check\n",
        "unique_jobs = df['job'].unique()\n",
        "print(\"\\nUnique Jobs:\", unique_jobs)\n",
        "\n",
        "unique_education = df['education'].unique\n",
        "print(\"\\nUnique Education Levels:\", unique_education)\n"
      ],
      "metadata": {
        "id": "WeAJ-HxyLKbK",
        "colab": {
          "base_uri": "https://localhost:8080/"
        },
        "outputId": "8a8c0d13-4cbe-4f6a-d383-2a7f6a639ef4"
      },
      "execution_count": null,
      "outputs": [
        {
          "output_type": "stream",
          "name": "stdout",
          "text": [
            "\n",
            "Unique Jobs: ['admin.' 'technician' 'services' 'management' 'retired' 'blue-collar'\n",
            " 'unemployed' 'entrepreneur' 'housemaid' 'unknown' 'self-employed'\n",
            " 'student']\n",
            "\n",
            "Unique Education Levels: <bound method Series.unique of 0        secondary\n",
            "1        secondary\n",
            "2        secondary\n",
            "3        secondary\n",
            "4         tertiary\n",
            "           ...    \n",
            "11157      primary\n",
            "11158    secondary\n",
            "11159    secondary\n",
            "11160    secondary\n",
            "11161    secondary\n",
            "Name: education, Length: 11162, dtype: object>\n"
          ]
        }
      ]
    },
    {
      "cell_type": "code",
      "source": [
        "# 1.3 Average Balance by Education\n",
        "edu_balance = df.groupby('education')['balance'].mean()\n",
        "\n",
        "print(\"\\nAverage Balance by Education Level:\", edu_balance)\n",
        "\n",
        "mar_balance = df.groupby('marital')['balance'].mean()\n",
        "print(\"\\nAverage Balance by Marital Status:\", mar_balance)"
      ],
      "metadata": {
        "id": "l_tJtUdwPs6L",
        "colab": {
          "base_uri": "https://localhost:8080/"
        },
        "outputId": "50ff1442-74a2-4016-d2e1-66b63610db27"
      },
      "execution_count": null,
      "outputs": [
        {
          "output_type": "stream",
          "name": "stdout",
          "text": [
            "\n",
            "Average Balance by Education Level: education\n",
            "primary      1523.031333\n",
            "secondary    1296.480278\n",
            "tertiary     1845.869070\n",
            "unknown      1746.605634\n",
            "Name: balance, dtype: float64\n",
            "\n",
            "Average Balance by Marital Status: marital\n",
            "divorced    1371.835267\n",
            "married     1599.927570\n",
            "single      1457.255259\n",
            "Name: balance, dtype: float64\n"
          ]
        }
      ]
    },
    {
      "cell_type": "code",
      "source": [
        "# 1.4 Age Distribution Histogram\n",
        "plt.figure(figsize=(8, 6))\n",
        "sns.histplot(df['age'], bins=20, kde=True, color= 'lightpink')\n",
        "plt.title('Age Distribution')\n",
        "plt.xlabel('Age')\n",
        "plt.ylabel('Frequency')\n",
        "plt.show()\n"
      ],
      "metadata": {
        "id": "aVr5UridP-AT",
        "colab": {
          "base_uri": "https://localhost:8080/",
          "height": 564
        },
        "outputId": "db82b7ca-9468-4c08-9d8d-23f2843be475"
      },
      "execution_count": null,
      "outputs": [
        {
          "output_type": "display_data",
          "data": {
            "text/plain": [
              "<Figure size 800x600 with 1 Axes>"
            ],
            "image/png": "[encoded data removed]"
          },
          "metadata": {}
        }
      ]
    },
    {
      "cell_type": "markdown",
      "source": [
        "## **Q2 Data Pre-Processing**\n",
        "\n",
        "This section focuses on preparing the data by encoding categorical features and ensuring it is ready for modeling.\n",
        "\n",
        "### **2.1 Encode Categorical Variables**\n",
        "- Identify categorical columns that contain non-numeric values.\n",
        "- Convert categorical features into **numerical** format using [Label Encoder](https://scikit-learn.org/stable/modules/generated/sklearn.preprocessing.LabelEncoder.html). Feel free to look at the documentation to get a better idea on what we are doing in this step.\n",
        "- Store the encoders to allow potential inverse transformations if needed later."
      ],
      "metadata": {
        "id": "mAMyvLXYX0dt"
      }
    },
    {
      "cell_type": "code",
      "source": [
        "from sklearn.preprocessing import LabelEncoder\n",
        "# Get categorical columns\n",
        "categorical_cols = df.select_dtypes(include=['object']).columns.tolist()\n",
        "categorical_cols.remove('deposit')\n",
        "\n",
        "# Encode categorical features using Label Encoding\n",
        "label_encoders = {}\n",
        "for col in categorical_cols:\n",
        "    le = LabelEncoder()\n",
        "    df[col] = le.fit_transform(df[col])\n",
        "    label_encoders[col] = le\n",
        "\n",
        "    if df['deposit'].dtype == 'object':\n",
        "        le_target = LabelEncoder()\n",
        "        df['deposit'] = le_target.fit_transform(df['deposit'])\n",
        "        label_encoders['deposit'] = le_target\n"
      ],
      "metadata": {
        "id": "oQkBSa30YYQE"
      },
      "execution_count": null,
      "outputs": []
    },
    {
      "cell_type": "markdown",
      "metadata": {
        "id": "8rpT4BokbOPW"
      },
      "source": [
        "## **Q3 Partition the data for cross validation**\n",
        "\n",
        "Import the dataset and divide it into two parts: 𝑋 (features, stored in `df_X`) and 𝑦 (target, stored in `s_y`). Establish our data partitions.\n",
        "\n",
        "Given the significant imbalance in the dataset, there's concern about the target class being insufficiently represented in a random k-fold split. To address this, we opt for a [stratified k-fold](https://scikit-learn.org/stable/modules/generated/sklearn.model_selection.StratifiedKFold.html) approach, which ensures the preservation of class proportions across our tests. We'll use `𝑘=3`. Create a `StratifiedKFold` instance and utilize its `split` method to fill the training and testing dictionaries.\n",
        "\n",
        "   - `d_train_df_X` : key is the fold number, value is the attribute training dataframe at that fold\n",
        "   - `d_test_df_X`  : key is the fold number, value is the attribute test dataframe at that fold\n",
        "   - `d_train_s_y`  : key is the fold number, value is the target training series at that fold\n",
        "   - `d_train_s_y`  : key is the fold number, value is the target test series at that fold"
      ]
    },
    {
      "cell_type": "code",
      "execution_count": null,
      "metadata": {
        "id": "4Ru9_cKzV8Nw"
      },
      "outputs": [],
      "source": [
        "df_X = df.drop(columns=[\"deposit\"])\n",
        "s_y = df[\"deposit\"]\n",
        "skf = StratifiedKFold(n_splits=3,shuffle=True,random_state=23)\n",
        "\n",
        "\n",
        "d_train_df_X = dict()\n",
        "d_test_df_X = dict()\n",
        "d_train_s_y = dict()\n",
        "d_test_s_y = dict()\n",
        "k = 1\n",
        "\n",
        "# Write your code here\n",
        "for train_index, test_index in skf.split(df_X, s_y):\n",
        "    d_train_df_X[k] = df_X.iloc[train_index].reset_index(drop=True)\n",
        "    d_test_df_X[k] = df_X.iloc[test_index].reset_index(drop=True)\n",
        "    d_train_s_y[k] = s_y.iloc[train_index].reset_index(drop=True)\n",
        "    d_test_s_y[k] = s_y.iloc[test_index].reset_index(drop=True)\n",
        "    k += 1\n"
      ]
    },
    {
      "cell_type": "code",
      "source": [
        "# Observe the test data and verify that the target training is as equally distributed as possible\n",
        "for key in d_test_s_y.keys():\n",
        "    print(f\"\\nFold {key} target distribution:\")\n",
        "    print(d_test_s_y[key].value_counts())"
      ],
      "metadata": {
        "id": "ts2rdf4dTnOv",
        "colab": {
          "base_uri": "https://localhost:8080/"
        },
        "outputId": "a6f9c7f3-99e7-479e-dd22-69e2bffe977f"
      },
      "execution_count": null,
      "outputs": [
        {
          "output_type": "stream",
          "name": "stdout",
          "text": [
            "\n",
            "Fold 1 target distribution:\n",
            "deposit\n",
            "0    1958\n",
            "1    1763\n",
            "Name: count, dtype: int64\n",
            "\n",
            "Fold 2 target distribution:\n",
            "deposit\n",
            "0    1958\n",
            "1    1763\n",
            "Name: count, dtype: int64\n",
            "\n",
            "Fold 3 target distribution:\n",
            "deposit\n",
            "0    1957\n",
            "1    1763\n",
            "Name: count, dtype: int64\n"
          ]
        }
      ]
    },
    {
      "cell_type": "markdown",
      "metadata": {
        "id": "1if1dH4ofJKl"
      },
      "source": [
        "## **Q3: Implementing AdaBoost and Random Forest Classifiers using a Generalized Function**\n",
        "\n",
        "### **Overview**\n",
        "As we learned in class, ensemble methods combine multiple models to improve overall prediction performance. In this assignment, you will work with two ensemble methods:\n",
        "\n",
        "1. **AdaBoost** – A boosting method that starts with a weak classifier (commonly a decision stump, i.e., a decision tree with `max_depth=1`) and iteratively focuses on misclassified instances.\n",
        "2. **Random Forest** – A bagging method that builds many decision trees (using random subsets of features at each split) and aggregates their predictions via majority voting.\n",
        "\n",
        "Rather than writing separate functions for each classifier, you will use a **generalized function** called `train_and_plot_model()` that:\n",
        "- Trains a given classifier using 3-fold cross-validation.\n",
        "- Computes evaluation metrics (Accuracy, True Positive Rate, Positive Predictive Value, and False Positive Rate) for each fold.\n",
        "- Plots the ROC curve for each fold using `roc_curve` and `RocCurveDisplay` from Scikit-learn.\n",
        "- Returns the predictions from the 3rd fold (stored in a variable, e.g., `y_hat_ab` for AdaBoost and `y_hat_rf` for Random Forest).\n",
        "\n",
        "### **Task Details**\n",
        "1. **Model Training and Prediction:**\n",
        "   - For **AdaBoost**, instantiate the classifier with:\n",
        "     ```python\n",
        "     AdaBoostClassifier(n_estimators=25, random_state=23)\n",
        "     ```\n",
        "   - For **Random Forest**, instantiate the classifier with:\n",
        "     ```python\n",
        "     RandomForestClassifier(criterion=\"entropy\", max_features=\"sqrt\", random_state=23)\n",
        "     ```\n",
        "   - Train the model on the training data (using the provided cross-validation splits) and use either `predict` or `predict_proba` to generate predictions.\n",
        "   - **Note:** predict_proba is typically used for Random Forest, as it outputs the probability estimates for each class. decision_function is used for AdaBoost.\n",
        "\n",
        "2. **Metrics Calculation:**\n",
        "   - For each fold, calculate:\n",
        "     - Accuracy\n",
        "     - True Positive Rate (TPR)\n",
        "     - Positive Predictive Value (PPV)\n",
        "     - False Positive Rate (FPR)\n",
        "\n",
        "3. **ROC Curve Plotting:**\n",
        "   - Plot the ROC curve for each fold. You may use Scikit-learn’s `roc_curve` and `RocCurveDisplay` functions.\n",
        "   - Refer to the Scikit-learn documentation for an example on plotting ROC curves in cross-validation.\n",
        "\n",
        "4. **Saving Predictions:**\n",
        "   - After iterating over all folds, save the predictions from the 3rd fold into a variable:\n",
        "     - `y_hat_ab` for AdaBoost\n",
        "     - `y_hat_rf` for Random Forest\n",
        "   - Your function should include a complete docstring.\n",
        "\n",
        "*Note:* Ensemble methods like AdaBoost focus on misclassified instances, which may take some time depending on the data size and the number of estimators. Please be patient."
      ]
    },
    {
      "cell_type": "code",
      "execution_count": null,
      "metadata": {
        "id": "QyLd57HUV8_2"
      },
      "outputs": [],
      "source": [
        "from sklearn.metrics import accuracy_score, roc_curve, RocCurveDisplay, confusion_matrix\n",
        "import matplotlib.pyplot as plt\n",
        "import numpy as np\n",
        "\n",
        "def train_and_plot_model(model, model_name, train_X, train_y, test_X, test_y, k=3):\n",
        "    '''\n",
        "    Trains a given classifier using cross-validation and plots the ROC curve.\n",
        "\n",
        "    Parameters:\n",
        "    - model: A Scikit-learn classifier instance (e.g., AdaBoostClassifier or RandomForestClassifier).\n",
        "    - model_name: A string representing the model name (used for labeling plots).\n",
        "    - train_X, train_y: Training data dictionaries (from cross-validation splits).\n",
        "    - test_X, test_y: Test data dictionaries (from cross-validation splits).\n",
        "    - k: Number of cross-validation folds.\n",
        "\n",
        "    Returns:\n",
        "    - y_hat: numpy array, Predictions for the instances in the test set for the 3rd fold.\n",
        "    '''\n",
        "\n",
        "    acc = np.zeros(k)\n",
        "    tpr = np.zeros(k)\n",
        "    ppv = np.zeros(k)\n",
        "    fpr = np.zeros(k)\n",
        "\n",
        "    fold_count = 0\n",
        "    fig, ax = plt.subplots()\n",
        "\n",
        "    for key in train_X.keys():\n",
        "        print(f\"Training {model_name} on Fold {key}\")\n",
        "\n",
        "        # Train model\n",
        "        model.fit(train_X[key], train_y[key])\n",
        "\n",
        "        # Get decision scores (if available) or use predicted probabilities for the positive class\n",
        "        if hasattr(model, \"decision_function\"):\n",
        "            y_scores = model.decision_function(test_X[key])\n",
        "        else:\n",
        "            y_scores = model.predict_proba(test_X[key])[:, 1]\n",
        "\n",
        "        y_pred = model.predict(test_X[key])\n",
        "\n",
        "        # Save 3rd fold predictions\n",
        "        if key == 3:\n",
        "            y_hat = y_pred\n",
        "\n",
        "        # Compute ROC values\n",
        "        fpr_vals, tpr_vals, _ = roc_curve(test_y[key], y_scores)\n",
        "\n",
        "        # Plot ROC curve\n",
        "        RocCurveDisplay(fpr=fpr_vals, tpr=tpr_vals).plot(ax=ax, name=f\"Fold {key}\")\n",
        "\n",
        "        # Compute metrics\n",
        "        acc[fold_count] = accuracy_score(test_y[key], y_pred)\n",
        "\n",
        "        cm = confusion_matrix(test_y[key], y_pred)\n",
        "        tn, fp, fn, tp = cm.ravel()\n",
        "\n",
        "        # True positive rate\n",
        "        tpr[fold_count] = tp / (tp + fn) if (tp + fn) > 0 else 0\n",
        "\n",
        "        # False positive rate\n",
        "        fpr[fold_count] = fp / (fp + tn) if (fp + tn) > 0 else 0\n",
        "\n",
        "        # Positive Predictive Value (avoid division by zero)\n",
        "        ppv[fold_count] = tp / (tp + fp) if (tp + fp) > 0 else 0\n",
        "\n",
        "        fold_count += 1\n",
        "\n",
        "    # Print overall performance\n",
        "    print(f\"\\n{model_name} Performance:\")\n",
        "    print(f'TPR - Min: {tpr.min():.2f}, Mean: {tpr.mean():.2f}, Max: {tpr.max():.2f}')\n",
        "    print(f'PPV - Min: {ppv.min():.2f}, Mean: {ppv.mean():.2f}, Max: {ppv.max():.2f}')\n",
        "    print(f'Accuracy - Min: {acc.min():.2f}, Mean: {acc.mean():.2f}, Max: {acc.max():.2f}')\n",
        "\n",
        "    # Plot the ROC Curve\n",
        "    plt.title(f\"{model_name} ROC Curve Across Folds\")\n",
        "    plt.show()\n",
        "\n",
        "    return y_hat"
      ]
    },
    {
      "cell_type": "markdown",
      "source": [
        "### Call train_and_plot_model()\n",
        "\n",
        "- **Train both Random Forest and AdaBoost** with the specified hyperparameters.  \n",
        "- Measure the **execution time** for each model in seconds."
      ],
      "metadata": {
        "id": "nSE9I3PNh7Vc"
      }
    },
    {
      "cell_type": "code",
      "source": [
        "# Write your code here\n",
        "\n",
        "# Train AdaBoost model\n",
        "ab_model = AdaBoostClassifier(n_estimators=25, random_state=23)\n",
        "\n",
        "start = time.time()\n",
        "y_hat_ab = train_and_plot_model(ab_model, \"AdaBoost\", d_train_df_X, d_train_s_y, d_test_df_X, d_test_s_y)\n",
        "ab_runtime = time.time() - start\n",
        "print(f\"AdaBoost Training Time: {ab_runtime:.2f} seconds\")"
      ],
      "metadata": {
        "id": "g_etXM2meby1",
        "colab": {
          "base_uri": "https://localhost:8080/",
          "height": 633
        },
        "outputId": "47d1a982-70ea-4cb2-d2b5-aba4fff707e8"
      },
      "execution_count": null,
      "outputs": [
        {
          "output_type": "stream",
          "name": "stdout",
          "text": [
            "Training AdaBoost on Fold 1\n",
            "Training AdaBoost on Fold 2\n",
            "Training AdaBoost on Fold 3\n",
            "\n",
            "AdaBoost Performance:\n",
            "TPR - Min: 0.76, Mean: 0.77, Max: 0.78\n",
            "PPV - Min: 0.77, Mean: 0.78, Max: 0.79\n",
            "Accuracy - Min: 0.78, Mean: 0.79, Max: 0.80\n"
          ]
        },
        {
          "output_type": "display_data",
          "data": {
            "text/plain": [
              "<Figure size 640x480 with 1 Axes>"
            ],
            "image/png": "[encoded data removed]"
          },
          "metadata": {}
        },
        {
          "output_type": "stream",
          "name": "stdout",
          "text": [
            "AdaBoost Training Time: 1.45 seconds\n"
          ]
        }
      ]
    },
    {
      "cell_type": "code",
      "source": [
        "# Write your code here\n",
        "\n",
        "# Train Random Forest model\n",
        "rf_model = RandomForestClassifier(criterion=\"entropy\", max_features=\"sqrt\", random_state=23)\n",
        "\n",
        "start = time.time()\n",
        "y_hat_rf = train_and_plot_model(rf_model, \"Random Forest\", d_train_df_X, d_train_s_y, d_test_df_X, d_test_s_y)\n",
        "rf_runtime = time.time() - start\n",
        "print(f\"Random Forest Training Time: {rf_runtime:.2f} seconds\")"
      ],
      "metadata": {
        "id": "GsheDb_hefpU",
        "colab": {
          "base_uri": "https://localhost:8080/",
          "height": 633
        },
        "outputId": "7741a76c-003a-48da-8012-28991b8e2e4e"
      },
      "execution_count": null,
      "outputs": [
        {
          "output_type": "stream",
          "name": "stdout",
          "text": [
            "Training Random Forest on Fold 1\n",
            "Training Random Forest on Fold 2\n",
            "Training Random Forest on Fold 3\n",
            "\n",
            "Random Forest Performance:\n",
            "TPR - Min: 0.86, Mean: 0.86, Max: 0.87\n",
            "PPV - Min: 0.81, Mean: 0.82, Max: 0.83\n",
            "Accuracy - Min: 0.84, Mean: 0.84, Max: 0.85\n"
          ]
        },
        {
          "output_type": "display_data",
          "data": {
            "text/plain": [
              "<Figure size 640x480 with 1 Axes>"
            ],
            "image/png": "[encoded data removed]"
          },
          "metadata": {}
        },
        {
          "output_type": "stream",
          "name": "stdout",
          "text": [
            "Random Forest Training Time: 4.85 seconds\n"
          ]
        }
      ]
    },
    {
      "cell_type": "markdown",
      "source": [
        "### **3.2 Compare AdaBoost and Random Forest**  \n",
        "\n",
        "- **Which model is faster?** Compare the execution times of AdaBoost and Random Forest. Why do you think one is faster than the other?  \n",
        "\n",
        "- **Which model has better predictive performance?** Compare accuracy, True Positive Rate (TPR), and False Positive Rate (FPR). Which model makes better predictions?  \n",
        "\n",
        "- **Which model should the bank deploy?** Considering both speed and accuracy, which model is more suitable for the bank’s marketing strategy?\n"
      ],
      "metadata": {
        "id": "63iWUNQxfiRH"
      }
    },
    {
      "cell_type": "markdown",
      "source": [
        "## WRITE ANSWER HERE\n",
        "- Answer 1:  AdaBoost is faster (1.45 secs compared to the 4.85 secs for the Random Forest. This is because Ada trains a sequence of shallow trees, and Random Forest builds many deep decision trees, which takes longer.\n",
        "- Answer 2: Random Forest has a better predictive performance.\n",
        "- Answer 3:  Random Forest is better for the bank's strategy even though its slower. It has better accuracy and recall making it more effective to see which customers will suscribe to a bank term deposit."
      ],
      "metadata": {
        "id": "IpsfG2LFgUDT"
      }
    },
    {
      "cell_type": "markdown",
      "source": [
        "## **Q4: Implementing XGBoost Classifier**\n",
        "\n",
        "### **Overview**  \n",
        "XGBoost (Extreme Gradient Boosting) is one of the most powerful and widely used machine learning algorithms, particularly for structured data tasks. It is an optimized implementation of gradient boosting that improves speed and performance through advanced techniques such as parallel tree boosting, regularization, and efficient handling of missing values.  \n",
        "\n",
        "XGBoost is known for its ability to:  \n",
        "- **Handle large datasets efficiently** by leveraging parallel computation.  \n",
        "- **Prevent overfitting** through L1 (Lasso) and L2 (Ridge) regularization.  \n",
        "- **Achieve state-of-the-art results** in machine learning competitions such as Kaggle.  \n",
        "- **Support early stopping** to optimize performance during training.  \n",
        "\n",
        "For more details on XGBoost, check out the following resources:  \n",
        "- Official Documentation: [https://xgboost.readthedocs.io/en/stable/](https://xgboost.readthedocs.io/en/stable/)  \n",
        "- Scikit-learn API for XGBoost: [https://xgboost.readthedocs.io/en/stable/python/sklearn_estimator.html](https://xgboost.readthedocs.io/en/stable/python/sklearn_estimator.html)  \n",
        "- Gradient Boosting Explanation: [https://machinelearningmastery.com/gentle-introduction-xgboost-applied-machine-learning/](https://machinelearningmastery.com/gentle-introduction-xgboost-applied-machine-learning/)  \n",
        "\n",
        "You will use **XGBoostClassifier** within the `train_and_plot_model()` function to evaluate its performance on the Bank Marketing Dataset.\n",
        "-  Also store the time it takes to run the model.\n"
      ],
      "metadata": {
        "id": "69VNdi4kkC4r"
      }
    },
    {
      "cell_type": "code",
      "source": [
        "# Train and evaluate XGBoost using the existing function\n",
        "\n",
        "xgb_model = XGBClassifier(use_label_encoder=False, eval_metric='logloss', random_state=23)\n",
        "\n",
        "start = time.time()\n",
        "y_hat_xgb = train_and_plot_model(xgb_model, \"XGBoost\", d_train_df_X, d_train_s_y, d_test_df_X, d_test_s_y)\n",
        "xg_runtime = time.time() - start\n",
        "print(f\"XGBoost Training Time: {xg_runtime:.2f} seconds\")"
      ],
      "metadata": {
        "id": "XyE_mJ-QgI_i",
        "colab": {
          "base_uri": "https://localhost:8080/",
          "height": 847
        },
        "outputId": "fef5a3ea-4086-4981-f96e-a8dea72ad243"
      },
      "execution_count": null,
      "outputs": [
        {
          "output_type": "stream",
          "name": "stdout",
          "text": [
            "Training XGBoost on Fold 1\n"
          ]
        },
        {
          "output_type": "stream",
          "name": "stderr",
          "text": [
            "/usr/local/lib/python3.11/dist-packages/xgboost/core.py:158: UserWarning: [12:27:16] WARNING: /workspace/src/learner.cc:740: \n",
            "Parameters: { \"use_label_encoder\" } are not used.\n",
            "\n",
            "  warnings.warn(smsg, UserWarning)\n"
          ]
        },
        {
          "output_type": "stream",
          "name": "stdout",
          "text": [
            "Training XGBoost on Fold 2\n"
          ]
        },
        {
          "output_type": "stream",
          "name": "stderr",
          "text": [
            "/usr/local/lib/python3.11/dist-packages/xgboost/core.py:158: UserWarning: [12:27:16] WARNING: /workspace/src/learner.cc:740: \n",
            "Parameters: { \"use_label_encoder\" } are not used.\n",
            "\n",
            "  warnings.warn(smsg, UserWarning)\n"
          ]
        },
        {
          "output_type": "stream",
          "name": "stdout",
          "text": [
            "Training XGBoost on Fold 3\n"
          ]
        },
        {
          "output_type": "stream",
          "name": "stderr",
          "text": [
            "/usr/local/lib/python3.11/dist-packages/xgboost/core.py:158: UserWarning: [12:27:17] WARNING: /workspace/src/learner.cc:740: \n",
            "Parameters: { \"use_label_encoder\" } are not used.\n",
            "\n",
            "  warnings.warn(smsg, UserWarning)\n"
          ]
        },
        {
          "output_type": "stream",
          "name": "stdout",
          "text": [
            "\n",
            "XGBoost Performance:\n",
            "TPR - Min: 0.86, Mean: 0.86, Max: 0.88\n",
            "PPV - Min: 0.82, Mean: 0.83, Max: 0.83\n",
            "Accuracy - Min: 0.84, Mean: 0.85, Max: 0.86\n"
          ]
        },
        {
          "output_type": "display_data",
          "data": {
            "text/plain": [
              "<Figure size 640x480 with 1 Axes>"
            ],
            "image/png": "[encoded data removed]"
          },
          "metadata": {}
        },
        {
          "output_type": "stream",
          "name": "stdout",
          "text": [
            "XGBoost Training Time: 1.80 seconds\n"
          ]
        }
      ]
    },
    {
      "cell_type": "markdown",
      "metadata": {
        "id": "-rkrZXJojsxg"
      },
      "source": [
        "### **Q5 Calculate the Cost of Incorrect Predictions**\n",
        "\n",
        "The bank is evaluating XGBoost and Random Forest for predicting term deposit subscriptions. Both models have similar accuracy, but XGBoost trains faster.\n",
        "\n",
        "Since marketing outreach is expensive, the bank wants to estimate the financial impact of False Positives (FP) and False Negatives (FN) before deciding which model to deploy.\n",
        "\n",
        "\n",
        "**Cost Assumptions:**\n",
        "\n",
        "* False Positives (FP): $50 (marketing cost per incorrect prediction)\n",
        "\n",
        "* False Negatives (FN): $500 (lost revenue per missed subscriber)\n",
        "\n",
        "**Task:**\n",
        "\n",
        "- Calculate the proportion of customers who subscribed using the dataset.\n",
        "- Recalculate the True Positive Rate (TPR) and False Positive Rate (FPR) for\n",
        "XGBoost and Random Forest using their predictions and actual labels.\n",
        "\n",
        "\n",
        "Using these values, compute:\n",
        "- The number of False Positives (FP)\n",
        "- The number of False Negatives (FN)\n",
        "- Compute the total financial loss for each model.\n",
        "\n",
        "Considering both financial loss and training time, which model should the bank deploy?\n"
      ]
    },
    {
      "cell_type": "code",
      "source": [
        "from sklearn.metrics import confusion_matrix\n",
        "\n",
        "y_pred_xgb = y_hat_xgb  # Predictions from the last fold\n",
        "y_pred_rf = y_hat_rf    # Predictions from the last fold\n",
        "\n",
        "# Use correct test labels for the last fold (3rd fold)\n",
        "fold_index = 3\n",
        "y_test_xgb = d_test_s_y[fold_index]\n",
        "y_test_rf = d_test_s_y[fold_index]\n",
        "\n",
        "# Validate matching lengths\n",
        "assert len(y_pred_xgb) == len(y_test_xgb), f\"XGBoost: Mismatch in samples ({len(y_pred_xgb)} vs {len(y_test_xgb)})\"\n",
        "assert len(y_pred_rf) == len(y_test_rf), f\"Random Forest: Mismatch in samples ({len(y_pred_rf)} vs {len(y_test_rf)})\"\n",
        "\n",
        "# Compute Confusion Matrices\n",
        "cm_xgb = confusion_matrix(y_test_xgb, y_pred_xgb)\n",
        "cm_rf = confusion_matrix(y_test_rf, y_pred_rf)\n",
        "\n",
        "# Extract TN, FP, FN, TP values\n",
        "TN_xgb, FP_xgb, FN_xgb, TP_xgb = cm_xgb.ravel()\n",
        "TN_rf, FP_rf, FN_rf, TP_rf = cm_rf.ravel()\n",
        "\n",
        "# Compute TPR and FPR for XGBoost and Random Forest\n",
        "TPR_xgb = TP_xgb / (TP_xgb + FN_xgb) if (TP_xgb + FN_xgb) > 0 else 0\n",
        "FPR_xgb = FP_xgb / (FP_xgb + TN_xgb) if (FP_xgb + TN_xgb) > 0 else 0\n",
        "\n",
        "TPR_rf = TP_rf / (TP_rf + FN_rf) if (TP_rf + FN_rf) > 0 else 0\n",
        "FPR_rf = FP_rf / (FP_rf + TN_rf) if (FP_rf + TN_rf) > 0 else 0\n",
        "\n",
        "# Calculate the proportion of customers who subscribed\n",
        "total_customers = len(df)\n",
        "subscribed_proportion = df[\"deposit\"].sum() / total_customers\n",
        "actual_subscribers = df[\"deposit\"].sum()\n",
        "non_subscribers = total_customers - actual_subscribers\n",
        "\n",
        "# Define Model Performance\n",
        "models = {\n",
        "    \"XGBoost\": {\"TP\": TP_xgb, \"FP\": FP_xgb, \"FN\": FN_xgb, \"TPR\": TPR_xgb, \"FPR\": FPR_xgb, \"train_time\": xg_runtime},\n",
        "    \"Random Forest\": {\"TP\": TP_rf, \"FP\": FP_rf, \"FN\": FN_rf, \"TPR\": TPR_rf, \"FPR\": FPR_rf, \"train_time\": rf_runtime}\n",
        "}\n",
        "\n",
        "# Cost Parameters\n",
        "cost_fp = 50   # Cost of marketing to a non-subscriber\n",
        "cost_fn = 500  # Revenue lost for missing a true subscriber\n",
        "\n",
        "# Compute FP, FN, and total cost\n",
        "for model, metrics in models.items():\n",
        "    TP = metrics[\"TP\"]\n",
        "    FP = metrics[\"FP\"]\n",
        "    FN = metrics[\"FN\"]\n",
        "\n",
        "    total_cost = (FP * cost_fp) + (FN * cost_fn)\n",
        "\n",
        "    print(f\"{model}: False Positives = {FP:.0f}, False Negatives = {FN:.0f}, Total Cost = ${total_cost:,.2f}\")\n"
      ],
      "metadata": {
        "id": "gj20KXOEwllQ",
        "colab": {
          "base_uri": "https://localhost:8080/"
        },
        "outputId": "f075842c-bb0b-4d58-faa8-60331ab22cdf"
      },
      "execution_count": null,
      "outputs": [
        {
          "output_type": "stream",
          "name": "stdout",
          "text": [
            "XGBoost: False Positives = 302, False Negatives = 250, Total Cost = $140,100.00\n",
            "Random Forest: False Positives = 322, False Negatives = 243, Total Cost = $137,600.00\n"
          ]
        }
      ]
    }
  ],
  "metadata": {
    "colab": {
      "provenance": []
    },
    "kernelspec": {
      "display_name": "default",
      "language": "python",
      "name": "default"
    },
    "language_info": {
      "codemirror_mode": {
        "name": "ipython",
        "version": 3
      },
      "file_extension": ".py",
      "mimetype": "text/x-python",
      "name": "python",
      "nbconvert_exporter": "python",
      "pygments_lexer": "ipython3",
      "version": "3.10.4"
    }
  },
  "nbformat": 4,
  "nbformat_minor": 0
}