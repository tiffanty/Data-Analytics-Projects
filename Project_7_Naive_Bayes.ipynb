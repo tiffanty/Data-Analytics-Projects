{
  "cells": [
    {
      "cell_type": "markdown",
      "metadata": {
        "id": "zB1FWjmYW3xi"
      },
      "source": [
        "\n",
        "# **Project 7: Naive Bayes Classifier**\n",
        "\n",
        "### **Write your name here:** Tiffany Akwarandu\n",
        "\n"
      ]
    },
    {
      "cell_type": "markdown",
      "metadata": {
        "id": "cdds_gx9XIRe"
      },
      "source": [
        "Imagine you are a Data Scientist at Google. More specifically at YouTube. Your first task is to create a model that given a YouTube comment you can classify to different sentiments like:\n",
        "\n",
        "  - 'positive'\n",
        "  - 'negative'\n",
        "  - 'neutral'\n",
        "\n",
        "Note that this is very important task because of reasons like:\n",
        "1. Sentiment Analysis for Content Creators:\n",
        "\n",
        "- Helps YouTubers understand audience sentiment towards their videos.\n",
        "- Allows content creators to gauge viewer engagement beyond just likes and dislikes.\n",
        "- Provides insights into audience reception, helping creators tailor future content.\n",
        "\n",
        "2. Automated Comment Moderation:\n",
        "\n",
        "- Identifies and flags toxic or offensive comments (negative sentiment).\n",
        "- Reduces the manual effort required to moderate comments.\n",
        "\n",
        "\n",
        "3. Brand and Product Analysis:\n",
        "\n",
        "- Helps businesses and advertisers analyze customer feedback in YouTube video comments.\n",
        "- Assists in evaluating public perception of products, services, or marketing campaigns.\n",
        "\n",
        "4. Sentiment-Based Video Recommendations:\n",
        "\n",
        "- Improves recommendation algorithms by incorporating comment sentiment as a factor.\n",
        "- Enables platforms to promote videos with highly positive audience reception.\n",
        "\n",
        "5. Market Research and Trend Analysis:\n",
        "- Identifies emerging trends and audience preferences.\n",
        "- Helps researchers study public opinions on various topics."
      ]
    },
    {
      "cell_type": "markdown",
      "source": [
        "Since you have experience with Naïve Bayes, you decide to use this classification algorithm to analyze the text and classify it as either positive, negative, or neutral.\n",
        "\n",
        "In addition to building our own Naive Bayes classifier, we are going to compare the performace of our classifier to the [Multinomial Naive Bayes Classifier](https://scikit-learn.org/stable/modules/naive_bayes.html#multinomial-naive-bayes) available in the scikit-learn library."
      ],
      "metadata": {
        "id": "OLdbaZcGHbgz"
      }
    },
    {
      "cell_type": "markdown",
      "source": [
        "## Dataset\n",
        "\n",
        "The dataset we will be using for this assignment will be the Youtube Comments Dataset from Kaggle:\n",
        "\n",
        "https://www.kaggle.com/datasets/atifaliak/youtube-comments-dataset/data\n",
        "\n",
        "It contains over 17,000 YouTube comments, each classified as either positive, negative, or neutral."
      ],
      "metadata": {
        "id": "It2Y6nq0Nt3r"
      }
    },
    {
      "cell_type": "code",
      "source": [
        "# Import libraries\n",
        "# These are the libraries you will use for this assignment. Do not import any other library.\n",
        "import pandas as pd\n",
        "import numpy as np\n",
        "import matplotlib.pyplot as plt\n",
        "import seaborn as sns\n",
        "import time\n",
        "import calendar\n",
        "from sklearn.naive_bayes import MultinomialNB\n",
        "from sklearn.metrics import accuracy_score"
      ],
      "metadata": {
        "id": "zjQLQl3AKGdm"
      },
      "execution_count": null,
      "outputs": []
    },
    {
      "cell_type": "markdown",
      "source": [
        "## **Task 0: Import the Dataset**\n",
        "\n",
        "Load the YouTube Comments Dataset and display the first few rows of the created DataFrame."
      ],
      "metadata": {
        "id": "7VxwRm7aKLKi"
      }
    },
    {
      "cell_type": "code",
      "source": [
        "#Write your code here\n",
        "df = pd.read_csv('YoutubeCommentsDataSet.csv')\n",
        "df.head()"
      ],
      "metadata": {
        "colab": {
          "base_uri": "https://localhost:8080/",
          "height": 206
        },
        "id": "XOzIcGPX6Tsq",
        "outputId": "c81155f0-9733-4e46-df78-ea70e1aef697"
      },
      "execution_count": null,
      "outputs": [
        {
          "output_type": "execute_result",
          "data": {
            "text/plain": [
              "                                             Comment Sentiment\n",
              "0  lets not forget that apple pay in 2014 require...   neutral\n",
              "1  here in nz 50 of retailers don’t even have con...  negative\n",
              "2  i will forever acknowledge this channel with t...  positive\n",
              "3  whenever i go to a place that doesn’t take app...  negative\n",
              "4  apple pay is so convenient secure and easy to ...  positive"
            ],
            "text/html": [
              "\n",
              "  <div id=\"df-05bbc33f-1981-40f5-9b8e-ef72fd385431\" class=\"colab-df-container\">\n",
              "    <div>\n",
              "<style scoped>\n",
              "    .dataframe tbody tr th:only-of-type {\n",
              "        vertical-align: middle;\n",
              "    }\n",
              "\n",
              "    .dataframe tbody tr th {\n",
              "        vertical-align: top;\n",
              "    }\n",
              "\n",
              "    .dataframe thead th {\n",
              "        text-align: right;\n",
              "    }\n",
              "</style>\n",
              "<table border=\"1\" class=\"dataframe\">\n",
              "  <thead>\n",
              "    <tr style=\"text-align: right;\">\n",
              "      <th></th>\n",
              "      <th>Comment</th>\n",
              "      <th>Sentiment</th>\n",
              "    </tr>\n",
              "  </thead>\n",
              "  <tbody>\n",
              "    <tr>\n",
              "      <th>0</th>\n",
              "      <td>lets not forget that apple pay in 2014 require...</td>\n",
              "      <td>neutral</td>\n",
              "    </tr>\n",
              "    <tr>\n",
              "      <th>1</th>\n",
              "      <td>here in nz 50 of retailers don’t even have con...</td>\n",
              "      <td>negative</td>\n",
              "    </tr>\n",
              "    <tr>\n",
              "      <th>2</th>\n",
              "      <td>i will forever acknowledge this channel with t...</td>\n",
              "      <td>positive</td>\n",
              "    </tr>\n",
              "    <tr>\n",
              "      <th>3</th>\n",
              "      <td>whenever i go to a place that doesn’t take app...</td>\n",
              "      <td>negative</td>\n",
              "    </tr>\n",
              "    <tr>\n",
              "      <th>4</th>\n",
              "      <td>apple pay is so convenient secure and easy to ...</td>\n",
              "      <td>positive</td>\n",
              "    </tr>\n",
              "  </tbody>\n",
              "</table>\n",
              "</div>\n",
              "    <div class=\"colab-df-buttons\">\n",
              "\n",
              "  <div class=\"colab-df-container\">\n",
              "    <button class=\"colab-df-convert\" onclick=\"convertToInteractive('df-05bbc33f-1981-40f5-9b8e-ef72fd385431')\"\n",
              "            title=\"Convert this dataframe to an interactive table.\"\n",
              "            style=\"display:none;\">\n",
              "\n",
              "  <svg xmlns=\"http://www.w3.org/2000/svg\" height=\"24px\" viewBox=\"0 -960 960 960\">\n",
              "    <path d=\"M120-120v-720h720v720H120Zm60-500h600v-160H180v160Zm220 220h160v-160H400v160Zm0 220h160v-160H400v160ZM180-400h160v-160H180v160Zm440 0h160v-160H620v160ZM180-180h160v-160H180v160Zm440 0h160v-160H620v160Z\"/>\n",
              "  </svg>\n",
              "    </button>\n",
              "\n",
              "  <style>\n",
              "    .colab-df-container {\n",
              "      display:flex;\n",
              "      gap: 12px;\n",
              "    }\n",
              "\n",
              "    .colab-df-convert {\n",
              "      background-color: #E8F0FE;\n",
              "      border: none;\n",
              "      border-radius: 50%;\n",
              "      cursor: pointer;\n",
              "      display: none;\n",
              "      fill: #1967D2;\n",
              "      height: 32px;\n",
              "      padding: 0 0 0 0;\n",
              "      width: 32px;\n",
              "    }\n",
              "\n",
              "    .colab-df-convert:hover {\n",
              "      background-color: #E2EBFA;\n",
              "      box-shadow: 0px 1px 2px rgba(60, 64, 67, 0.3), 0px 1px 3px 1px rgba(60, 64, 67, 0.15);\n",
              "      fill: #174EA6;\n",
              "    }\n",
              "\n",
              "    .colab-df-buttons div {\n",
              "      margin-bottom: 4px;\n",
              "    }\n",
              "\n",
              "    [theme=dark] .colab-df-convert {\n",
              "      background-color: #3B4455;\n",
              "      fill: #D2E3FC;\n",
              "    }\n",
              "\n",
              "    [theme=dark] .colab-df-convert:hover {\n",
              "      background-color: #434B5C;\n",
              "      box-shadow: 0px 1px 3px 1px rgba(0, 0, 0, 0.15);\n",
              "      filter: drop-shadow(0px 1px 2px rgba(0, 0, 0, 0.3));\n",
              "      fill: #FFFFFF;\n",
              "    }\n",
              "  </style>\n",
              "\n",
              "    <script>\n",
              "      const buttonEl =\n",
              "        document.querySelector('#df-05bbc33f-1981-40f5-9b8e-ef72fd385431 button.colab-df-convert');\n",
              "      buttonEl.style.display =\n",
              "        google.colab.kernel.accessAllowed ? 'block' : 'none';\n",
              "\n",
              "      async function convertToInteractive(key) {\n",
              "        const element = document.querySelector('#df-05bbc33f-1981-40f5-9b8e-ef72fd385431');\n",
              "        const dataTable =\n",
              "          await google.colab.kernel.invokeFunction('convertToInteractive',\n",
              "                                                    [key], {});\n",
              "        if (!dataTable) return;\n",
              "\n",
              "        const docLinkHtml = 'Like what you see? Visit the ' +\n",
              "          '<a target=\"_blank\" href=https://colab.research.google.com/notebooks/data_table.ipynb>data table notebook</a>'\n",
              "          + ' to learn more about interactive tables.';\n",
              "        element.innerHTML = '';\n",
              "        dataTable['output_type'] = 'display_data';\n",
              "        await google.colab.output.renderOutput(dataTable, element);\n",
              "        const docLink = document.createElement('div');\n",
              "        docLink.innerHTML = docLinkHtml;\n",
              "        element.appendChild(docLink);\n",
              "      }\n",
              "    </script>\n",
              "  </div>\n",
              "\n",
              "\n",
              "<div id=\"df-3206a6d9-b9fd-4ac4-bb2e-b021d6839e5b\">\n",
              "  <button class=\"colab-df-quickchart\" onclick=\"quickchart('df-3206a6d9-b9fd-4ac4-bb2e-b021d6839e5b')\"\n",
              "            title=\"Suggest charts\"\n",
              "            style=\"display:none;\">\n",
              "\n",
              "<svg xmlns=\"http://www.w3.org/2000/svg\" height=\"24px\"viewBox=\"0 0 24 24\"\n",
              "     width=\"24px\">\n",
              "    <g>\n",
              "        <path d=\"M19 3H5c-1.1 0-2 .9-2 2v14c0 1.1.9 2 2 2h14c1.1 0 2-.9 2-2V5c0-1.1-.9-2-2-2zM9 17H7v-7h2v7zm4 0h-2V7h2v10zm4 0h-2v-4h2v4z\"/>\n",
              "    </g>\n",
              "</svg>\n",
              "  </button>\n",
              "\n",
              "<style>\n",
              "  .colab-df-quickchart {\n",
              "      --bg-color: #E8F0FE;\n",
              "      --fill-color: #1967D2;\n",
              "      --hover-bg-color: #E2EBFA;\n",
              "      --hover-fill-color: #174EA6;\n",
              "      --disabled-fill-color: #AAA;\n",
              "      --disabled-bg-color: #DDD;\n",
              "  }\n",
              "\n",
              "  [theme=dark] .colab-df-quickchart {\n",
              "      --bg-color: #3B4455;\n",
              "      --fill-color: #D2E3FC;\n",
              "      --hover-bg-color: #434B5C;\n",
              "      --hover-fill-color: #FFFFFF;\n",
              "      --disabled-bg-color: #3B4455;\n",
              "      --disabled-fill-color: #666;\n",
              "  }\n",
              "\n",
              "  .colab-df-quickchart {\n",
              "    background-color: var(--bg-color);\n",
              "    border: none;\n",
              "    border-radius: 50%;\n",
              "    cursor: pointer;\n",
              "    display: none;\n",
              "    fill: var(--fill-color);\n",
              "    height: 32px;\n",
              "    padding: 0;\n",
              "    width: 32px;\n",
              "  }\n",
              "\n",
              "  .colab-df-quickchart:hover {\n",
              "    background-color: var(--hover-bg-color);\n",
              "    box-shadow: 0 1px 2px rgba(60, 64, 67, 0.3), 0 1px 3px 1px rgba(60, 64, 67, 0.15);\n",
              "    fill: var(--button-hover-fill-color);\n",
              "  }\n",
              "\n",
              "  .colab-df-quickchart-complete:disabled,\n",
              "  .colab-df-quickchart-complete:disabled:hover {\n",
              "    background-color: var(--disabled-bg-color);\n",
              "    fill: var(--disabled-fill-color);\n",
              "    box-shadow: none;\n",
              "  }\n",
              "\n",
              "  .colab-df-spinner {\n",
              "    border: 2px solid var(--fill-color);\n",
              "    border-color: transparent;\n",
              "    border-bottom-color: var(--fill-color);\n",
              "    animation:\n",
              "      spin 1s steps(1) infinite;\n",
              "  }\n",
              "\n",
              "  @keyframes spin {\n",
              "    0% {\n",
              "      border-color: transparent;\n",
              "      border-bottom-color: var(--fill-color);\n",
              "      border-left-color: var(--fill-color);\n",
              "    }\n",
              "    20% {\n",
              "      border-color: transparent;\n",
              "      border-left-color: var(--fill-color);\n",
              "      border-top-color: var(--fill-color);\n",
              "    }\n",
              "    30% {\n",
              "      border-color: transparent;\n",
              "      border-left-color: var(--fill-color);\n",
              "      border-top-color: var(--fill-color);\n",
              "      border-right-color: var(--fill-color);\n",
              "    }\n",
              "    40% {\n",
              "      border-color: transparent;\n",
              "      border-right-color: var(--fill-color);\n",
              "      border-top-color: var(--fill-color);\n",
              "    }\n",
              "    60% {\n",
              "      border-color: transparent;\n",
              "      border-right-color: var(--fill-color);\n",
              "    }\n",
              "    80% {\n",
              "      border-color: transparent;\n",
              "      border-right-color: var(--fill-color);\n",
              "      border-bottom-color: var(--fill-color);\n",
              "    }\n",
              "    90% {\n",
              "      border-color: transparent;\n",
              "      border-bottom-color: var(--fill-color);\n",
              "    }\n",
              "  }\n",
              "</style>\n",
              "\n",
              "  <script>\n",
              "    async function quickchart(key) {\n",
              "      const quickchartButtonEl =\n",
              "        document.querySelector('#' + key + ' button');\n",
              "      quickchartButtonEl.disabled = true;  // To prevent multiple clicks.\n",
              "      quickchartButtonEl.classList.add('colab-df-spinner');\n",
              "      try {\n",
              "        const charts = await google.colab.kernel.invokeFunction(\n",
              "            'suggestCharts', [key], {});\n",
              "      } catch (error) {\n",
              "        console.error('Error during call to suggestCharts:', error);\n",
              "      }\n",
              "      quickchartButtonEl.classList.remove('colab-df-spinner');\n",
              "      quickchartButtonEl.classList.add('colab-df-quickchart-complete');\n",
              "    }\n",
              "    (() => {\n",
              "      let quickchartButtonEl =\n",
              "        document.querySelector('#df-3206a6d9-b9fd-4ac4-bb2e-b021d6839e5b button');\n",
              "      quickchartButtonEl.style.display =\n",
              "        google.colab.kernel.accessAllowed ? 'block' : 'none';\n",
              "    })();\n",
              "  </script>\n",
              "</div>\n",
              "\n",
              "    </div>\n",
              "  </div>\n"
            ],
            "application/vnd.google.colaboratory.intrinsic+json": {
              "type": "dataframe",
              "variable_name": "df",
              "summary": "{\n  \"name\": \"df\",\n  \"rows\": 18408,\n  \"fields\": [\n    {\n      \"column\": \"Comment\",\n      \"properties\": {\n        \"dtype\": \"string\",\n        \"num_unique_values\": 17871,\n        \"samples\": [\n          \"which apple product are you most excited about in september this is the best iphone accessory in 2022  links to the best iphone accessory deals on amazon  airpods pro on sale  airpods 3 sale \",\n          \"1948 i understand that this is for beginners just starting with sql but in my opinion you should always delete with unique value like id in this case because later youll probably have more than one jeff keep up the good work\",\n          \"i want to go to pakistan just to eat food with ali i really enjoyed his personality hes got a great sense of humor and hes obviously super passionate about educating people on the beauty of his country\"\n        ],\n        \"semantic_type\": \"\",\n        \"description\": \"\"\n      }\n    },\n    {\n      \"column\": \"Sentiment\",\n      \"properties\": {\n        \"dtype\": \"category\",\n        \"num_unique_values\": 3,\n        \"samples\": [\n          \"neutral\",\n          \"negative\",\n          \"positive\"\n        ],\n        \"semantic_type\": \"\",\n        \"description\": \"\"\n      }\n    }\n  ]\n}"
            }
          },
          "metadata": {},
          "execution_count": 2
        }
      ]
    },
    {
      "cell_type": "markdown",
      "source": [
        "## **Task 1: Feature Engineering**\n",
        "\n",
        "**1.1 Handling Missing Data**\n",
        "\n",
        "Begin by cleaning the dataset. Remove any rows where the comments are null (i.e., missing values). After dropping these rows, verify that there are no null values left in the DataFrame.\n"
      ],
      "metadata": {
        "id": "4_ya9UX0WZWy"
      }
    },
    {
      "cell_type": "code",
      "source": [
        "# Write your code here\n",
        "df = df.dropna(subset=['Comment'])\n",
        "\n",
        "\n",
        "# Verify no Null comments in our data\n",
        "df.isnull().sum()\n"
      ],
      "metadata": {
        "id": "fnBMJKLiawo7",
        "colab": {
          "base_uri": "https://localhost:8080/",
          "height": 147
        },
        "outputId": "b1ed07fb-f23a-4275-e1ff-5b0758354ac3"
      },
      "execution_count": null,
      "outputs": [
        {
          "output_type": "execute_result",
          "data": {
            "text/plain": [
              "Comment      0\n",
              "Sentiment    0\n",
              "dtype: int64"
            ],
            "text/html": [
              "<div>\n",
              "<style scoped>\n",
              "    .dataframe tbody tr th:only-of-type {\n",
              "        vertical-align: middle;\n",
              "    }\n",
              "\n",
              "    .dataframe tbody tr th {\n",
              "        vertical-align: top;\n",
              "    }\n",
              "\n",
              "    .dataframe thead th {\n",
              "        text-align: right;\n",
              "    }\n",
              "</style>\n",
              "<table border=\"1\" class=\"dataframe\">\n",
              "  <thead>\n",
              "    <tr style=\"text-align: right;\">\n",
              "      <th></th>\n",
              "      <th>0</th>\n",
              "    </tr>\n",
              "  </thead>\n",
              "  <tbody>\n",
              "    <tr>\n",
              "      <th>Comment</th>\n",
              "      <td>0</td>\n",
              "    </tr>\n",
              "    <tr>\n",
              "      <th>Sentiment</th>\n",
              "      <td>0</td>\n",
              "    </tr>\n",
              "  </tbody>\n",
              "</table>\n",
              "</div><br><label><b>dtype:</b> int64</label>"
            ]
          },
          "metadata": {},
          "execution_count": 3
        }
      ]
    },
    {
      "cell_type": "markdown",
      "source": [
        "**1.2 Visualizing Sentiment Distribution**\n",
        "\n",
        "Use Seaborn's countplot function to visualize the distribution of the target variable, \"Sentiment\". This will help us understand how balanced or imbalanced the dataset is in terms of positive, negative, and neutral comments."
      ],
      "metadata": {
        "id": "U24AzGtzm5-p"
      }
    },
    {
      "cell_type": "code",
      "source": [
        "# Write your code here\n",
        "plt.figure(figsize=(8,5))\n",
        "sns.countplot(x=\"Sentiment\", data=df, hue=\"Sentiment\", palette=\"Blues\", legend=False)"
      ],
      "metadata": {
        "colab": {
          "base_uri": "https://localhost:8080/",
          "height": 483
        },
        "id": "nk5lkvm0Mr9U",
        "outputId": "8ad21103-a504-41b5-ed99-7bf249a13c43"
      },
      "execution_count": null,
      "outputs": [
        {
          "output_type": "execute_result",
          "data": {
            "text/plain": [
              "<Axes: xlabel='Sentiment', ylabel='count'>"
            ]
          },
          "metadata": {},
          "execution_count": 4
        },
        {
          "output_type": "display_data",
          "data": {
            "text/plain": [
              "<Figure size 800x500 with 1 Axes>"
            ],
            "image/png": "[encoded data removed]"
          },
          "metadata": {}
        }
      ]
    },
    {
      "cell_type": "markdown",
      "source": [
        "**1.3 Analyzing Comment Lengths**\n",
        "\n",
        "Calculate and display the average length of the comments in the dataset."
      ],
      "metadata": {
        "id": "MhWE2c3em92r"
      }
    },
    {
      "cell_type": "code",
      "source": [
        "# Write your code here\n",
        "df['Comment_Length'] = df['Comment'].apply(len)\n",
        "avg_length = df['Comment_Length'].mean()\n",
        "print ( \"Average comment length: \", avg_length)"
      ],
      "metadata": {
        "id": "DHVlcTx6mPV7",
        "colab": {
          "base_uri": "https://localhost:8080/"
        },
        "outputId": "08b2c27e-568d-4c12-baa4-6bbe39d5cb31"
      },
      "execution_count": null,
      "outputs": [
        {
          "output_type": "stream",
          "name": "stdout",
          "text": [
            "Average comment length:  177.5541276410368\n"
          ]
        }
      ]
    },
    {
      "cell_type": "markdown",
      "source": [
        "**1.4 Examining a Sample Comment**\n",
        "\n",
        "Select one comment from the dataset—either randomly or one of your choice. Read the comment and check its assigned sentiment classification. Then, answer the following questions:\n",
        "\n",
        "- Based on the comment's content, what sentiment do you think it should be classified as?\n",
        "- Do you agree with the classification provided in the dataset? Why or why not?\n",
        "- Do you think some comments in the dataset might have incorrect classifications? What could cause such misclassifications?"
      ],
      "metadata": {
        "id": "sK5MwntvnBOz"
      }
    },
    {
      "cell_type": "code",
      "source": [
        "# Write your code here\n"
      ],
      "metadata": {
        "id": "n73e9Tebh6r7"
      },
      "execution_count": null,
      "outputs": []
    },
    {
      "cell_type": "markdown",
      "source": [
        "### **TODO: Write your answer to 1.4 here:**\n",
        "\n",
        "Answer:\n",
        "I think it should be classified as a positive sentiment. I agree with the sentiment that it was classified as positive.\n",
        "It uses words like 'easy, convenient, secure', which are positive. I think if using the word 'no', the dataset might classify it as negative.\n",
        "\n"
      ],
      "metadata": {
        "id": "MQdQFe2cng7N"
      }
    },
    {
      "cell_type": "markdown",
      "source": [
        "## **Task 2: Preparing Text Data for Naïve Bayes Classification**\n",
        "\n",
        "Before applying the Naïve Bayes classifier, we need to convert our text data into numerical feature vectors. This process involves several key steps to ensure that our dataset is properly structured and ready for training.\n",
        "\n",
        "**2.0 Examine DF shape**\n",
        "\n",
        "- To understand the dataset's dimensions, first, display the shape of the DataFrame.\n",
        "\n",
        "**2.1 Separate Features and Target Variables**\n",
        "\n",
        "Define the independent and target variables:\n",
        "\n",
        "- X (features): Contains the text data from the \"Comment\" column.\n",
        "- y (labels): Contains the sentiment classification from the \"Sentiment\" column.\n",
        "\n",
        "**2.2 Split the data**\n",
        "- Use train_test_split from Scikit-Learn to perform this split. Set random_state=42 to ensure that the results remain consistent across different runs.\n",
        "\n",
        "\n",
        "**2.3 Vectorize the text data using TfidfVectorizer**\n",
        "\n",
        "TfidfVectorizer converts text to a matrix of TF-IDF features\n",
        "- Import TfidfVectorizer from sklearn.feature_extraction.text\n",
        "\n",
        "Some of the important hyperparameters are:\n",
        "- max_features: Limits vocabulary to top N terms (recommended: 1000-5000)\n",
        "- min_df: Ignores terms that appear in fewer than N documents\n",
        "- stop_words: Removes common English words like 'the', 'and', etc.\n",
        "- ngram_range: Controls whether to use single words or phrases (e.g., (1,2) for both)\n",
        "\n",
        "For now just set max_features  = 1000\n",
        "\n",
        "**2.4 Verify the Transformation**\n",
        "\n",
        "Print the shapes of all resulting data structures:\n",
        "\n",
        "- X_train_tfidf, X_test_tfidf, y_train, and y_test\n",
        "\n",
        "\n",
        "This confirms the vectorization process worked as expected"
      ],
      "metadata": {
        "id": "hn53YS-mc6OC"
      }
    },
    {
      "cell_type": "code",
      "source": [
        "# Print the shape of DataFrame before vectorizing\n",
        "print(df.shape)\n"
      ],
      "metadata": {
        "id": "M6f9ymPAbE0n",
        "colab": {
          "base_uri": "https://localhost:8080/"
        },
        "outputId": "4ec3ce38-2dc9-4eb8-b66d-4ce5134055ad"
      },
      "execution_count": null,
      "outputs": [
        {
          "output_type": "stream",
          "name": "stdout",
          "text": [
            "(18364, 3)\n"
          ]
        }
      ]
    },
    {
      "cell_type": "code",
      "source": [
        "# Write your code here\n",
        "X = df['Comment']\n",
        "y = df['Sentiment']\n"
      ],
      "metadata": {
        "id": "GyQKd3YmoKvX"
      },
      "execution_count": null,
      "outputs": []
    },
    {
      "cell_type": "code",
      "source": [
        "from sklearn.model_selection import train_test_split\n",
        "# Write your code here\n",
        "X_train, X_test, y_train, y_test = train_test_split(X, y, test_size=0.2, random_state=42)\n"
      ],
      "metadata": {
        "id": "S8U92W8_7MsF"
      },
      "execution_count": null,
      "outputs": []
    },
    {
      "cell_type": "code",
      "source": [
        "from sklearn.feature_extraction.text import TfidfVectorizer\n",
        "# Write your code here\n",
        "vectorizer = TfidfVectorizer(max_features=1000)\n",
        "X_train_tfidf = vectorizer.fit_transform(X_train)\n",
        "X_test_tfidf = vectorizer.transform(X_test)"
      ],
      "metadata": {
        "id": "u_bL2Ni67bNN"
      },
      "execution_count": null,
      "outputs": []
    },
    {
      "cell_type": "code",
      "source": [
        "# Write your code here\n",
        "print(\"X_train_tfidf shape:\", X_train_tfidf.shape)\n",
        "print(\"X_test_tfidf shape:\", X_test_tfidf.shape)\n",
        "print(\"y_train shape:\", y_train.shape)\n",
        "print(\"y_test shape:\", y_test.shape)"
      ],
      "metadata": {
        "id": "FIbMxKQoqB6f",
        "colab": {
          "base_uri": "https://localhost:8080/"
        },
        "outputId": "d58ee7f2-25c2-4e03-8edd-f8c687dcedbd"
      },
      "execution_count": null,
      "outputs": [
        {
          "output_type": "stream",
          "name": "stdout",
          "text": [
            "X_train_tfidf shape: (14691, 1000)\n",
            "X_test_tfidf shape: (3673, 1000)\n",
            "y_train shape: (14691,)\n",
            "y_test shape: (3673,)\n"
          ]
        }
      ]
    },
    {
      "cell_type": "markdown",
      "metadata": {
        "id": "-J2mESx4W4Hu"
      },
      "source": [
        "## **Task 3: Calculating the prior probabilities**\n",
        "\n",
        "* Calculate the prior probabilities for each possible \"Sentime\" in `df` and populate a dictionary, `dict_priors`, where the key is the possible \"Sentiment\" values and the value is the prior probabilities. Show the dictionary. Do not hardcode the possible values of \"Sentiment\".  Don't forget about [value counts](https://pandas.pydata.org/docs/reference/api/pandas.Series.value_counts.html)."
      ]
    },
    {
      "cell_type": "code",
      "execution_count": null,
      "metadata": {
        "id": "aUfrw1Q2Yi28",
        "colab": {
          "base_uri": "https://localhost:8080/"
        },
        "outputId": "1b172161-4186-4447-f8a4-fccf0cdfc5b3"
      },
      "outputs": [
        {
          "output_type": "stream",
          "name": "stdout",
          "text": [
            "{'positive': 0.6208886952733609, 'neutral': 0.2518514484861686, 'negative': 0.12725985624047048}\n"
          ]
        }
      ],
      "source": [
        "# Write your code here\n",
        "target_col = 'Sentiment'\n",
        "dict_priors = df[target_col].value_counts(normalize=True).to_dict()\n",
        "print(dict_priors)\n"
      ]
    },
    {
      "cell_type": "markdown",
      "metadata": {
        "id": "cYpiMCoNYmBF"
      },
      "source": [
        "## **Task 4: Create a model for the distribution of all of the numeric attributes**\n",
        "\n",
        "* For each class, and for each attribute calculate the sample mean and sample standard deviation.  You should store the model in a nested dictionary, `dict_nb_model`, such that `dict_nb_model['positive']['feature']` is a tuple containing the mean and standard deviation for the target Type 'h' and the attribute 'Rooms'.  Show the model using the `display` function. You should ignore entries that are `NaN` in the mean and [standard deviation](https://pandas.pydata.org/docs/reference/api/pandas.Series.std.html) calculation.\n",
        "\n",
        "* The docstring included with this function is designed to offer detailed guidance and insight into its purpose and implementation. Given the complexity and intricacy involved in crafting this function, it's important to thoroughly comprehend the logic and steps described in the docstring. Carefully study and internalize the methodology outlined, as this understanding will be critical in effectively implementing the function. Take this opportunity to engage deeply with the material, and ensure that you grasp the function's objectives, the parameters it requires, and the output it generates. This hands-on experience is invaluable and will improve your ability to work with Naive Bayes models and similar machine learning techniques."
      ]
    },
    {
      "cell_type": "code",
      "source": [
        "def build_naive_bayes_model(X_train_tfidf, y_train, vectorizer):\n",
        "    \"\"\"\n",
        "    Builds a Naive Bayes model dictionary for each target class in the dataframe.\n",
        "    For each class, calculates the mean and standard deviation for every feature column,\n",
        "    excluding the target column.\n",
        "\n",
        "    Parameters:\n",
        "    - X_train_tfidf: sparse matrix, TF-IDF transformed training data.\n",
        "    - y_train: pandas Series, target sentiment labels.\n",
        "    - vectorizer: TfidfVectorizer, used to extract feature names.\n",
        "\n",
        "    Returns:\n",
        "    - A dictionary where each key is a target class, and each value is another dictionary.\n",
        "      This inner dictionary has feature column names as keys, and tuples of (mean, std deviation)\n",
        "      as values for that feature with respect to the target class.\n",
        "    \"\"\"\n",
        "    dict_nb_model = dict()\n",
        "    # Get unique sentiment classes\n",
        "    unique_targets = np.unique(y_train)\n",
        "\n",
        "    # Convert TF-IDF sparse matrix to dense NumPy array\n",
        "    X_train_dense = X_train_tfidf.toarray()\n",
        "\n",
        "    # Get feature names (words)\n",
        "    feature_names = vectorizer.get_feature_names_out()\n",
        "\n",
        "    for target in unique_targets:\n",
        "        # Get the indices of samples belonging to this class\n",
        "        class_indices = np.where(y_train == target)[0]\n",
        "\n",
        "\n",
        "        # Extract the subset of the TF-IDF matrix for this class\n",
        "        X_class = X_train_dense[class_indices]\n",
        "\n",
        "\n",
        "        # Iterate over feature indices instead of DataFrame columns\n",
        "        for i, word in enumerate(feature_names):\n",
        "            # Calculate mean and standard deviation, excluding NaN values\n",
        "            mean_value = np.nanmean(X_class[:, i])\n",
        "            std_value = np.nanstd(X_class[:, i])\n",
        "\n",
        "\n",
        "    return dict_nb_model"
      ],
      "metadata": {
        "id": "jCVxO0u6QKYq"
      },
      "execution_count": null,
      "outputs": []
    },
    {
      "cell_type": "code",
      "source": [
        "dict_nb_model = build_naive_bayes_model(X_train_tfidf, y_train.values, vectorizer)\n"
      ],
      "metadata": {
        "id": "Kz_8EJTnQdtW"
      },
      "execution_count": null,
      "outputs": []
    },
    {
      "cell_type": "code",
      "source": [
        "# Display the model\n",
        "from IPython.display import display\n",
        "df_nb_model = pd.DataFrame(dict_nb_model)\n",
        "display(df_nb_model)\n",
        "\n"
      ],
      "metadata": {
        "id": "HbaU9ds2yjyh",
        "colab": {
          "base_uri": "https://localhost:8080/",
          "height": 89
        },
        "outputId": "8af72155-ca14-4ca2-c2a9-cc456482023c"
      },
      "execution_count": null,
      "outputs": [
        {
          "output_type": "display_data",
          "data": {
            "text/plain": [
              "Empty DataFrame\n",
              "Columns: []\n",
              "Index: []"
            ],
            "text/html": [
              "\n",
              "  <div id=\"df-009c8e10-b5ca-480e-9969-a0c7258b18b6\" class=\"colab-df-container\">\n",
              "    <div>\n",
              "<style scoped>\n",
              "    .dataframe tbody tr th:only-of-type {\n",
              "        vertical-align: middle;\n",
              "    }\n",
              "\n",
              "    .dataframe tbody tr th {\n",
              "        vertical-align: top;\n",
              "    }\n",
              "\n",
              "    .dataframe thead th {\n",
              "        text-align: right;\n",
              "    }\n",
              "</style>\n",
              "<table border=\"1\" class=\"dataframe\">\n",
              "  <thead>\n",
              "    <tr style=\"text-align: right;\">\n",
              "      <th></th>\n",
              "    </tr>\n",
              "  </thead>\n",
              "  <tbody>\n",
              "  </tbody>\n",
              "</table>\n",
              "</div>\n",
              "    <div class=\"colab-df-buttons\">\n",
              "\n",
              "  <div class=\"colab-df-container\">\n",
              "    <button class=\"colab-df-convert\" onclick=\"convertToInteractive('df-009c8e10-b5ca-480e-9969-a0c7258b18b6')\"\n",
              "            title=\"Convert this dataframe to an interactive table.\"\n",
              "            style=\"display:none;\">\n",
              "\n",
              "  <svg xmlns=\"http://www.w3.org/2000/svg\" height=\"24px\" viewBox=\"0 -960 960 960\">\n",
              "    <path d=\"M120-120v-720h720v720H120Zm60-500h600v-160H180v160Zm220 220h160v-160H400v160Zm0 220h160v-160H400v160ZM180-400h160v-160H180v160Zm440 0h160v-160H620v160ZM180-180h160v-160H180v160Zm440 0h160v-160H620v160Z\"/>\n",
              "  </svg>\n",
              "    </button>\n",
              "\n",
              "  <style>\n",
              "    .colab-df-container {\n",
              "      display:flex;\n",
              "      gap: 12px;\n",
              "    }\n",
              "\n",
              "    .colab-df-convert {\n",
              "      background-color: #E8F0FE;\n",
              "      border: none;\n",
              "      border-radius: 50%;\n",
              "      cursor: pointer;\n",
              "      display: none;\n",
              "      fill: #1967D2;\n",
              "      height: 32px;\n",
              "      padding: 0 0 0 0;\n",
              "      width: 32px;\n",
              "    }\n",
              "\n",
              "    .colab-df-convert:hover {\n",
              "      background-color: #E2EBFA;\n",
              "      box-shadow: 0px 1px 2px rgba(60, 64, 67, 0.3), 0px 1px 3px 1px rgba(60, 64, 67, 0.15);\n",
              "      fill: #174EA6;\n",
              "    }\n",
              "\n",
              "    .colab-df-buttons div {\n",
              "      margin-bottom: 4px;\n",
              "    }\n",
              "\n",
              "    [theme=dark] .colab-df-convert {\n",
              "      background-color: #3B4455;\n",
              "      fill: #D2E3FC;\n",
              "    }\n",
              "\n",
              "    [theme=dark] .colab-df-convert:hover {\n",
              "      background-color: #434B5C;\n",
              "      box-shadow: 0px 1px 3px 1px rgba(0, 0, 0, 0.15);\n",
              "      filter: drop-shadow(0px 1px 2px rgba(0, 0, 0, 0.3));\n",
              "      fill: #FFFFFF;\n",
              "    }\n",
              "  </style>\n",
              "\n",
              "    <script>\n",
              "      const buttonEl =\n",
              "        document.querySelector('#df-009c8e10-b5ca-480e-9969-a0c7258b18b6 button.colab-df-convert');\n",
              "      buttonEl.style.display =\n",
              "        google.colab.kernel.accessAllowed ? 'block' : 'none';\n",
              "\n",
              "      async function convertToInteractive(key) {\n",
              "        const element = document.querySelector('#df-009c8e10-b5ca-480e-9969-a0c7258b18b6');\n",
              "        const dataTable =\n",
              "          await google.colab.kernel.invokeFunction('convertToInteractive',\n",
              "                                                    [key], {});\n",
              "        if (!dataTable) return;\n",
              "\n",
              "        const docLinkHtml = 'Like what you see? Visit the ' +\n",
              "          '<a target=\"_blank\" href=https://colab.research.google.com/notebooks/data_table.ipynb>data table notebook</a>'\n",
              "          + ' to learn more about interactive tables.';\n",
              "        element.innerHTML = '';\n",
              "        dataTable['output_type'] = 'display_data';\n",
              "        await google.colab.output.renderOutput(dataTable, element);\n",
              "        const docLink = document.createElement('div');\n",
              "        docLink.innerHTML = docLinkHtml;\n",
              "        element.appendChild(docLink);\n",
              "      }\n",
              "    </script>\n",
              "  </div>\n",
              "\n",
              "\n",
              "  <div id=\"id_e0307a5a-8aed-427c-a866-316eaba50423\">\n",
              "    <style>\n",
              "      .colab-df-generate {\n",
              "        background-color: #E8F0FE;\n",
              "        border: none;\n",
              "        border-radius: 50%;\n",
              "        cursor: pointer;\n",
              "        display: none;\n",
              "        fill: #1967D2;\n",
              "        height: 32px;\n",
              "        padding: 0 0 0 0;\n",
              "        width: 32px;\n",
              "      }\n",
              "\n",
              "      .colab-df-generate:hover {\n",
              "        background-color: #E2EBFA;\n",
              "        box-shadow: 0px 1px 2px rgba(60, 64, 67, 0.3), 0px 1px 3px 1px rgba(60, 64, 67, 0.15);\n",
              "        fill: #174EA6;\n",
              "      }\n",
              "\n",
              "      [theme=dark] .colab-df-generate {\n",
              "        background-color: #3B4455;\n",
              "        fill: #D2E3FC;\n",
              "      }\n",
              "\n",
              "      [theme=dark] .colab-df-generate:hover {\n",
              "        background-color: #434B5C;\n",
              "        box-shadow: 0px 1px 3px 1px rgba(0, 0, 0, 0.15);\n",
              "        filter: drop-shadow(0px 1px 2px rgba(0, 0, 0, 0.3));\n",
              "        fill: #FFFFFF;\n",
              "      }\n",
              "    </style>\n",
              "    <button class=\"colab-df-generate\" onclick=\"generateWithVariable('df_nb_model')\"\n",
              "            title=\"Generate code using this dataframe.\"\n",
              "            style=\"display:none;\">\n",
              "\n",
              "  <svg xmlns=\"http://www.w3.org/2000/svg\" height=\"24px\"viewBox=\"0 0 24 24\"\n",
              "       width=\"24px\">\n",
              "    <path d=\"M7,19H8.4L18.45,9,17,7.55,7,17.6ZM5,21V16.75L18.45,3.32a2,2,0,0,1,2.83,0l1.4,1.43a1.91,1.91,0,0,1,.58,1.4,1.91,1.91,0,0,1-.58,1.4L9.25,21ZM18.45,9,17,7.55Zm-12,3A5.31,5.31,0,0,0,4.9,8.1,5.31,5.31,0,0,0,1,6.5,5.31,5.31,0,0,0,4.9,4.9,5.31,5.31,0,0,0,6.5,1,5.31,5.31,0,0,0,8.1,4.9,5.31,5.31,0,0,0,12,6.5,5.46,5.46,0,0,0,6.5,12Z\"/>\n",
              "  </svg>\n",
              "    </button>\n",
              "    <script>\n",
              "      (() => {\n",
              "      const buttonEl =\n",
              "        document.querySelector('#id_e0307a5a-8aed-427c-a866-316eaba50423 button.colab-df-generate');\n",
              "      buttonEl.style.display =\n",
              "        google.colab.kernel.accessAllowed ? 'block' : 'none';\n",
              "\n",
              "      buttonEl.onclick = () => {\n",
              "        google.colab.notebook.generateWithVariable('df_nb_model');\n",
              "      }\n",
              "      })();\n",
              "    </script>\n",
              "  </div>\n",
              "\n",
              "    </div>\n",
              "  </div>\n"
            ],
            "application/vnd.google.colaboratory.intrinsic+json": {
              "type": "dataframe",
              "variable_name": "df_nb_model",
              "summary": "{\n  \"name\": \"df_nb_model\",\n  \"rows\": 0,\n  \"fields\": []\n}"
            }
          },
          "metadata": {}
        }
      ]
    },
    {
      "cell_type": "markdown",
      "metadata": {
        "id": "cDQIgxwuYqOC"
      },
      "source": [
        "## **Task 5: Write a function that calculates the probability of a Gaussian**\n",
        "\n",
        "* Given the mean ($\\mu$), standard deviation ($\\sigma$), and a observed point, `x`, return the probability.  \n",
        "* Use the formula $p(x) = \\frac{1}{\\sigma \\sqrt{2 \\pi}} e^{-\\frac{1}{2}(\\frac{x-\\mu}{\\sigma})^2}$ ([wiki](https://en.wikipedia.org/wiki/Normal_distribution)).  You should use [numpy's exp](https://numpy.org/doc/stable/reference/generated/numpy.exp.html) function in your solution.\n",
        "* Complete the docstring for the function you will implement."
      ]
    },
    {
      "cell_type": "code",
      "source": [
        "def get_probability(mu, sigma, x):\n",
        "    \"\"\"\n",
        "    Calculate the probability density of x for a Gaussian distribution.\n",
        "\n",
        "    This function computes the value of the probability density function (PDF)\n",
        "    for a normal (Gaussian) distribution given the mean (mu), standard deviation\n",
        "    (sigma), and a value x. The calculation is based on the formula for the PDF\n",
        "    of a Gaussian distribution.\n",
        "\n",
        "    Parameters:\n",
        "    - mu (float): The mean of the Gaussian distribution.\n",
        "    - sigma (float): The standard deviation of the Gaussian distribution. Sigma must be positive.\n",
        "    - x (float): The point at which the PDF is evaluated.\n",
        "\n",
        "    Returns:\n",
        "    - float: The probability density of x in the Gaussian distribution defined by mu and sigma.\n",
        "\n",
        "    Note:\n",
        "    - The function assumes sigma > 0. Passing a non-positive sigma will result in a division by zero error.\n",
        "    - This function does not check for the validity of the input types. Passing non-numeric types for mu, sigma, or x will result in a TypeError.\n",
        "    \"\"\"\n",
        "    # Write your code here\n",
        "    p = 1 / (sigma * np.sqrt(2 * np.pi))\n",
        "    exponent = -0.5 * ((x - mu) / sigma) ** 2\n",
        "    return p * np.exp(exponent)"
      ],
      "metadata": {
        "id": "iO7gXBN_RijV"
      },
      "execution_count": null,
      "outputs": []
    },
    {
      "cell_type": "markdown",
      "metadata": {
        "id": "d1V7WDGUW4Uq"
      },
      "source": [
        "\n",
        "## **Task 6: Write the Naive Bayes classifier function**\n",
        "\n",
        "* The Naive Bayes classifier function, `nb_class`, below should take as a parameter the prior probability dictionary. `dict_priors`, the dictionary containing all of the gaussian distribution information for each attribue, `dict_nb_model`, and a single observation row (a series generated from iterrows) of the test dataframe.\n",
        "\n",
        "* It should return a single target classification.\n",
        "\n",
        "* For this problem, all of our attributes are numeric and modeled as Gaussians, so we don't worry about categorical data.\n",
        "\n",
        "* Make sure to skip attributes that do not have a value in the observation.  Do not hardcode the possible classification types.\n",
        "\n"
      ]
    },
    {
      "cell_type": "code",
      "source": [
        "import numpy as np\n",
        "\n",
        "def nb_class(dict_priors, dict_nb_model, observation_tfidf):\n",
        "    \"\"\"\n",
        "    Classifies a TF-IDF vector using the Naïve Bayes model.\n",
        "\n",
        "    Parameters:\n",
        "    - dict_priors (dict): Prior probabilities for each class.\n",
        "    - dict_nb_model (dict): Gaussian distribution parameters (mean, std) for each TF-IDF feature.\n",
        "    - observation_tfidf (numpy.ndarray): A single row from the TF-IDF matrix.\n",
        "\n",
        "    Returns:\n",
        "    - The class with the highest posterior probability.\n",
        "    \"\"\"\n",
        "    dict_score = {}\n",
        "\n",
        "    for target in dict_priors.keys():\n",
        "        # Initialize score with log prior probability\n",
        "\n",
        "        # Iterate over each TF-IDF feature\n",
        "        for i in range(len(observation_tfidf)):\n",
        "\n",
        "\n",
        "            if i in dict_nb_model[target]:\n",
        "                mean, std = dict_nb_model[target][i]\n",
        "\n",
        "                # Avoid zero probability issues\n",
        "                if std == 0:\n",
        "                  std = 1e-6\n",
        "\n",
        "                # Compute Gaussian probability\n",
        "                prob = get_probability(mean, std, observation_tfidf[i])\n",
        "\n",
        "                # Use log probabilities to prevent underflow\n",
        "                dict_score[target] += np.log(prob)\n",
        "\n",
        "\n",
        "    # Return the class with the highest posterior probability\n",
        "    return max(dict_score, key=dict_score.get)"
      ],
      "metadata": {
        "id": "cz7xsZd1SkZq"
      },
      "execution_count": null,
      "outputs": []
    },
    {
      "cell_type": "markdown",
      "metadata": {
        "id": "ZHywrZ_hY_cN"
      },
      "source": [
        "## **Task 7: Calculate the accuracy using Naive Bayes classifier function on the test set**\n",
        "\n",
        "Here, you will need to apply the same preprocessing and feature engineering techniques we applied to the training set.\n",
        "\n",
        "* Apply the normalize_date function to the \"Date\" column to ensure all dates are in a consistent format as we did for the training set. This function should already be defined and implemented correctly in your notebook based on previous instructions.\n",
        "\n",
        "* Convert the normalized date strings in the \"Date\" column to Unix time (seconds since the epoch) and store these in a new column named 'unixtime'.\n",
        "After conversion, drop the original \"Date\" column as it's no longer needed.\n",
        "\n",
        "* Iterate over each row in the df_test DataFrame, preparing each observation for classification by the Naive Bayes model.\n",
        "* Drop the target column ('Type') from each observation and convert the row to a dictionary format using `.to_dict()`. This is necessary as the `nb_class` function expects the observation as a dictionary.\n",
        "* Use the `nb_class` function to make predictions. This function should already be defined and requires dict_priors and dict_nb_model which should have been prepared earlier.\n",
        "* Store each prediction in a list called predictions.\n",
        "\n",
        "* Calculate the accuracy as the mean of the correct predictions by comparing the predictions list with the actual values in the 'Type' column of df_test.\n",
        "* Print the accuracy as a percentage with two decimal places."
      ]
    },
    {
      "cell_type": "code",
      "source": [
        "predictions = []\n",
        "\n",
        "# Convert sparse TF-IDF matrix to an array for iteration\n",
        "X_test_array = X_test_tfidf.toarray()\n",
        "\n",
        "# Loop through test dataset\n",
        "for i in range(X_test_array.shape[0]):\n",
        "    # Extract the TF-IDF vector for this sample\n",
        "    observation_tfidf = X_test_array[i]\n",
        "\n",
        "    # Predict sentiment using Naïve Bayes\n",
        "    predicted_sentiment = nb_class(dict_priors, dict_nb_model, observation_tfidf, vectorizer)\n",
        "\n",
        "    # Append prediction to list\n",
        "    predictions.append(predicted_sentiment)\n",
        "\n",
        "# Convert predictions list to a NumPy array\n",
        "predictions = np.array(predictions)\n",
        "\n",
        "# Calculate accuracy\n",
        "accuracy = np.mean(predictions == y_test.values)\n",
        "\n",
        "# Print final accuracy\n",
        "print('Manual Accuracy is {:.2f}%'.format(accuracy * 100))\n"
      ],
      "metadata": {
        "id": "x3tPwn0c0War",
        "colab": {
          "base_uri": "https://localhost:8080/",
          "height": 216
        },
        "outputId": "41df51fd-596f-42f4-bfec-e85cfc800ada"
      },
      "execution_count": null,
      "outputs": [
        {
          "output_type": "error",
          "ename": "TypeError",
          "evalue": "nb_class() takes 3 positional arguments but 4 were given",
          "traceback": [
            "\u001b[0;31m---------------------------------------------------------------------------\u001b[0m",
            "\u001b[0;31mTypeError\u001b[0m                                 Traceback (most recent call last)",
            "\u001b[0;32m<ipython-input-29-697c2d810697>\u001b[0m in \u001b[0;36m<cell line: 0>\u001b[0;34m()\u001b[0m\n\u001b[1;32m     10\u001b[0m \u001b[0;34m\u001b[0m\u001b[0m\n\u001b[1;32m     11\u001b[0m     \u001b[0;31m# Predict sentiment using Naïve Bayes\u001b[0m\u001b[0;34m\u001b[0m\u001b[0;34m\u001b[0m\u001b[0m\n\u001b[0;32m---> 12\u001b[0;31m     \u001b[0mpredicted_sentiment\u001b[0m \u001b[0;34m=\u001b[0m \u001b[0mnb_class\u001b[0m\u001b[0;34m(\u001b[0m\u001b[0mdict_priors\u001b[0m\u001b[0;34m,\u001b[0m \u001b[0mdict_nb_model\u001b[0m\u001b[0;34m,\u001b[0m \u001b[0mobservation_tfidf\u001b[0m\u001b[0;34m,\u001b[0m \u001b[0mvectorizer\u001b[0m\u001b[0;34m)\u001b[0m\u001b[0;34m\u001b[0m\u001b[0;34m\u001b[0m\u001b[0m\n\u001b[0m\u001b[1;32m     13\u001b[0m \u001b[0;34m\u001b[0m\u001b[0m\n\u001b[1;32m     14\u001b[0m     \u001b[0;31m# Append prediction to list\u001b[0m\u001b[0;34m\u001b[0m\u001b[0;34m\u001b[0m\u001b[0m\n",
            "\u001b[0;31mTypeError\u001b[0m: nb_class() takes 3 positional arguments but 4 were given"
          ]
        }
      ]
    },
    {
      "cell_type": "markdown",
      "metadata": {
        "id": "dMBW2uu6ZNgM"
      },
      "source": [
        "### **Task 8: Use `scikit-learn` to do the same thing**\n",
        "\n",
        "* Now we understand the inner workings of the Naive Bayes algorithm, let's compare our results to [scikit-learn's Naive Bayes](https://scikit-learn.org/stable/modules/naive_bayes.html) implementation.\n",
        "\n",
        "* Use the [GaussianNB](https://scikit-learn.org/stable/modules/naive_bayes.html#gaussian-naive-bayes) to train using the `X_train_tfidf` and test using the `X_test_tfidf`.\n",
        "* Then use the [MultinomialNB](https://scikit-learn.org/stable/modules/naive_bayes.html#multinomial-naive-bayes) to train using the `X_train_tfidf` and test using the `X_test_tfidf`.\n",
        "* Call your train_test_nb function with the GaussianNB classifier and compare the results with your custom implementation.\n",
        "* Call your train_test_nb function with the MultinomialNB classifier and evaluate which model performs better for text classification."
      ]
    },
    {
      "cell_type": "code",
      "source": [
        "from sklearn.naive_bayes import GaussianNB\n",
        "from sklearn.naive_bayes import MultinomialNB\n",
        "from sklearn.metrics import accuracy_score\n",
        "\n",
        "def train_test_nb(X_train, X_test, y_train, y_test, model_nb):\n",
        "    \"\"\"\n",
        "    Trains and tests a Naive Bayes model using scikit-learn on vectorized text data.\n",
        "    Converts sparse TF-IDF matrices to dense arrays before applying the model.\n",
        "\n",
        "    Parameters:\n",
        "    - X_train: scipy.sparse matrix, TF-IDF vectorized training features\n",
        "    - X_test: scipy.sparse matrix, TF-IDF vectorized testing features\n",
        "    - y_train: array-like, target values for training data\n",
        "    - y_test: array-like, target values for test data\n",
        "    - model_nb: sklearn model, the Naive Bayes classifier to train\n",
        "\n",
        "    Returns:\n",
        "    - float: The accuracy of the model on the test set\n",
        "    \"\"\"\n",
        "\n",
        "    # Convert sparse TF-IDF matrices to dense NumPy arrays\n",
        "    X_train_dense = X_train.toarray()\n",
        "    X_test_dense = X_test.toarray()\n",
        "\n",
        "    # Training Naive Bayes model\n",
        "    model_nb.fit(X_train_dense, y_train)\n",
        "\n",
        "\n",
        "    # Testing the model\n",
        "    y_pred = model_nb.predict(X_test_dense)\n",
        "\n",
        "\n",
        "    # Calculating accuracy\n",
        "    accuracy = accuracy_score(y_test, y_pred)\n",
        "\n",
        "\n",
        "    # Printing the accuracy\n",
        "    print('Sklearn GaussianNB Accuracy is {:.2f}%'.format(accuracy * 100))\n",
        "    return accuracy"
      ],
      "metadata": {
        "id": "cx4WT81rULRq"
      },
      "execution_count": null,
      "outputs": []
    },
    {
      "cell_type": "code",
      "source": [
        "# Write your code here\n",
        "model = GaussianNB()\n",
        "train_test_nb(X_train_tfidf, X_test_tfidf, y_train, y_test, model)\n"
      ],
      "metadata": {
        "id": "W2HIS2uu26Fq",
        "colab": {
          "base_uri": "https://localhost:8080/"
        },
        "outputId": "a2d51708-8680-4530-f2f4-141b2249046d"
      },
      "execution_count": null,
      "outputs": [
        {
          "output_type": "stream",
          "name": "stdout",
          "text": [
            "Sklearn GaussianNB Accuracy is 42.04%\n"
          ]
        },
        {
          "output_type": "execute_result",
          "data": {
            "text/plain": [
              "0.4203648243942282"
            ]
          },
          "metadata": {},
          "execution_count": 35
        }
      ]
    },
    {
      "cell_type": "code",
      "source": [
        "# Write your code here\n",
        "model = MultinomialNB()\n",
        "train_test_nb(X_train_tfidf, X_test_tfidf, y_train, y_test, model)\n"
      ],
      "metadata": {
        "id": "lXWYi_lBUPKj",
        "colab": {
          "base_uri": "https://localhost:8080/"
        },
        "outputId": "44b4e854-2744-41ea-a981-8233b704cd70"
      },
      "execution_count": null,
      "outputs": [
        {
          "output_type": "stream",
          "name": "stdout",
          "text": [
            "Sklearn GaussianNB Accuracy is 67.03%\n"
          ]
        },
        {
          "output_type": "execute_result",
          "data": {
            "text/plain": [
              "0.6702967601415737"
            ]
          },
          "metadata": {},
          "execution_count": 36
        }
      ]
    },
    {
      "cell_type": "markdown",
      "source": [
        "## WRITE HERE\n",
        "- Why was MultinomialNB better than GaussianNB?"
      ],
      "metadata": {
        "id": "fNQjDN9d5XCZ"
      }
    },
    {
      "cell_type": "markdown",
      "source": [
        "Its specifically designed for disscrete data like word counts or TF-IDF values"
      ],
      "metadata": {
        "id": "0Tb737xaEAbB"
      }
    },
    {
      "cell_type": "markdown",
      "metadata": {
        "id": "QQbZlH4iZceR"
      },
      "source": [
        "## **Task 9: Create an Enhanced Text Vectorizer**\n",
        "\n",
        "Now that we've successfully implemented basic TF-IDF vectorization, let's create an improved vectorizer with more sophisticated parameters:\n",
        "\n",
        "- Create a new TfidfVectorizer instance with enhanced settings:\n",
        "\n",
        "- Increase max_features to 5000 to capture a larger vocabulary\n",
        "- Add stop_words='english' to remove common English words that don't contribute to sentiment\n",
        "- Set ngram_range=(1, 2) to capture both individual words and meaningful word pairs"
      ]
    },
    {
      "cell_type": "code",
      "source": [
        "# write your code here\n",
        "vectorizer_2 = TfidfVectorizer(\n",
        "    max_features=5000,\n",
        "    stop_words='english',\n",
        "    ngram_range=(1, 2)\n",
        ")\n",
        "X_train_tfidf_2 = vectorizer_2.fit_transform(X_train)\n",
        "X_test_tfidf_2 = vectorizer_2.transform(X_test)"
      ],
      "metadata": {
        "id": "xoTOZuaz3n5q"
      },
      "execution_count": null,
      "outputs": []
    },
    {
      "cell_type": "code",
      "source": [
        "# Write your code here\n",
        "model = MultinomialNB()\n"
      ],
      "metadata": {
        "id": "pwCBQ4_Q6loo"
      },
      "execution_count": null,
      "outputs": []
    }
  ],
  "metadata": {
    "colab": {
      "provenance": []
    },
    "kernelspec": {
      "display_name": "causal_modeling",
      "language": "python",
      "name": "causal_modeling"
    },
    "language_info": {
      "codemirror_mode": {
        "name": "ipython",
        "version": 3
      },
      "file_extension": ".py",
      "mimetype": "text/x-python",
      "name": "python",
      "nbconvert_exporter": "python",
      "pygments_lexer": "ipython3",
      "version": "3.9.0"
    }
  },
  "nbformat": 4,
  "nbformat_minor": 0
}