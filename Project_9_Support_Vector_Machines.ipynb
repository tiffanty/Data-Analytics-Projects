{
  "cells": [
    {
      "cell_type": "markdown",
      "source": [
        "# ** Project 9: Support Vector Machines (SVMs)**\n",
        "\n",
        "Tiffany Akwarandu"
      ],
      "metadata": {
        "id": "6Vcxp0BNOebz"
      }
    },
    {
      "cell_type": "markdown",
      "metadata": {
        "id": "QOifg_kQscPQ"
      },
      "source": [
        "## **Handwritten Digit Recognition with SVM**\n",
        "\n",
        "*Imagine you are a data scientist at a startup building smart postal sorting machines.*  \n",
        "Your team is developing an AI system that can automatically **read and sort handwritten postal codes** on mail envelopes captured by a camera.\n",
        "\n",
        "You're responsible for building the **core digit recognition engine** that can accurately identify handwritten numbers (0–9) from grayscale image scans. These digits are critical for correctly determining ZIP codes and ensuring timely delivery of packages across the country.\n",
        "\n",
        "You’ve been given access to a large dataset of handwritten digits collected from past mail samples — this is the **MNIST dataset**, a benchmark for handwritten digit recognition.\n",
        "\n",
        "---\n",
        "\n",
        "## **Your Task**\n",
        "\n",
        "In this assignment, you will implement **Support Vector Machines (SVM)**, a powerful and versatile supervised machine learning algorithm used for classification and regression tasks. You will also explore the nuances of **hyperparameter tuning** (such as kernel type, `C`, and `gamma`) to optimize model performance.\n",
        "\n",
        "Specifically, you will:\n",
        "\n",
        "- Preprocess and normalize the MNIST dataset.\n",
        "- Train an SVM classifier to recognize digits from 0 to 9.\n",
        "- Evaluate its performance on unseen test data.\n",
        "- Experiment with different kernels (e.g., linear, RBF) and hyperparameter settings.\n",
        "- Visualize misclassified digits and analyze model behavior.\n",
        "\n",
        "---"
      ]
    },
    {
      "cell_type": "markdown",
      "metadata": {
        "id": "eyqx6WoEsmDG"
      },
      "source": [
        "### **Import Libraries**\n",
        "\n",
        "* Review each library imported below and let it help you understand what you will be utilizing from scikit-learn and other libraries. Take the time to review official documentation to familiarize yourself with the modules that you are not familiar with."
      ]
    },
    {
      "cell_type": "code",
      "execution_count": null,
      "metadata": {
        "id": "0DNFkePIsZwj"
      },
      "outputs": [],
      "source": [
        "import numpy as np\n",
        "import matplotlib.pyplot as plt\n",
        "import seaborn as sns\n",
        "from sklearn import datasets\n",
        "from sklearn.model_selection import train_test_split\n",
        "from sklearn.preprocessing import StandardScaler\n",
        "from sklearn.svm import SVC\n",
        "from sklearn.metrics import classification_report, confusion_matrix\n",
        "from sklearn.model_selection import GridSearchCV"
      ]
    },
    {
      "cell_type": "markdown",
      "metadata": {
        "id": "oDGcbUDPxk5D"
      },
      "source": [
        "## **PART 1: Implementation of SVM Classifier on the MNIST dataset**"
      ]
    },
    {
      "cell_type": "markdown",
      "metadata": {
        "id": "pqf6ilcjsaZH"
      },
      "source": [
        "## **Q1: Load and Preprocess the Dataset**\n",
        "\n",
        "In this exercise, you will use the MNIST dataset, a collection of 70,000 grayscale images of handwritten digits (0–9), each of size 28×28 pixels.\n",
        "\n",
        "Your task is to:\n",
        "- Load the dataset using TensorFlow datasets. The import statement for this has been provided for you. You will load the dataset from Tensorflow, just like you load data from sklearn datasets, with a method and the name of the dataset as in `mnist.load_data()`\n",
        "- Normalize the pixel values to the range [0, 1].\n",
        "- Flatten each image into a vector of length 784 (since 28 × 28 = 784).\n",
        "\n",
        "This preprocessing step prepares the data for use with classifiers like Support Vector Machines, which expect input features as 1D vectors.\n",
        "\n",
        "After loading and preprocessing:\n",
        "- Print the shape of the training and test sets to confirm the dimensions.\n",
        "- Print the first training sample to see what the input to your classifier looks like.\n"
      ]
    },
    {
      "cell_type": "code",
      "execution_count": null,
      "metadata": {
        "id": "Z9KWkM5FsanE"
      },
      "outputs": [],
      "source": [
        "from tensorflow.keras.datasets import mnist\n",
        "\n",
        "def load_data_from_tf():\n",
        "    \"\"\"\n",
        "    Load and preprocess the MNIST dataset for use with machine learning classifiers.\n",
        "\n",
        "    Returns:\n",
        "        tuple: A tuple containing:\n",
        "            - X_train (numpy.ndarray): Flattened and normalized training images.\n",
        "            - y_train (numpy.ndarray): Training labels.\n",
        "            - X_test (numpy.ndarray): Flattened and normalized test images.\n",
        "            - y_test (numpy.ndarray): Test labels.\n",
        "    \"\"\"\n",
        "\n",
        "    # Load data (already split into train/test)\n",
        "    (X_train, y_train), (X_test, y_test) = mnist.load_data()\n",
        "\n",
        "\n",
        "    # Normalize to [0, 1]\n",
        "    # Here you will convert pixel values (originally in range [0, 255]) to the range [0, 1],\n",
        "    # which is a common preprocessing step for ML models to improve convergence and performance.\n",
        "    X_train = X_train.astype('float32') / 255.0\n",
        "    X_test = X_test.astype('float32') / 255.0\n",
        "\n",
        "    # Flatten images in tet and train datasets to prepare it for the SVM model we will implement. (from 28x28 to 784)\n",
        "    X_train = X_train.reshape(-1, 28 * 28)\n",
        "    X_test = X_test.reshape(-1, 28 * 28)\n",
        "\n",
        "    # return what the docstring specifies.\n",
        "    return X_train, y_train, X_test, y_test\n",
        "\n"
      ]
    },
    {
      "cell_type": "code",
      "source": [
        "# Load the dataset by calling the function you implemented above\n",
        "X_train, y_train, X_test, y_test = load_data_from_tf()\n",
        "\n",
        "\n",
        "\n",
        "# Print the shape of the data\n",
        "print(\"Training data shape:\", X_train.shape)\n",
        "print(\"Training labels shape:\", y_train.shape)\n",
        "print(\"Test data shape:\", X_test.shape)\n",
        "print(\"Test labels shape:\", y_test.shape)\n"
      ],
      "metadata": {
        "id": "qtEN8rl1yXrI",
        "colab": {
          "base_uri": "https://localhost:8080/"
        },
        "outputId": "9c6f2b3b-6371-44ec-9069-c78d5b164ec4"
      },
      "execution_count": null,
      "outputs": [
        {
          "output_type": "stream",
          "name": "stdout",
          "text": [
            "Training data shape: (60000, 784)\n",
            "Training labels shape: (60000,)\n",
            "Test data shape: (10000, 784)\n",
            "Test labels shape: (10000,)\n"
          ]
        }
      ]
    },
    {
      "cell_type": "code",
      "source": [
        "# Print a random training point.\n",
        "random_index = np.random.randint(0, X_train.shape[0])\n",
        "\n",
        "print(\"Random training sample index:\", random_index)\n",
        "print(\"Label:\", y_train[random_index])\n",
        "print(\"Flattened image:\", X_train[random_index])\n"
      ],
      "metadata": {
        "id": "v0mpnSRTykye",
        "colab": {
          "base_uri": "https://localhost:8080/"
        },
        "outputId": "c73fee7d-e840-4c79-a9c4-d7e475f3d61d"
      },
      "execution_count": null,
      "outputs": [
        {
          "output_type": "stream",
          "name": "stdout",
          "text": [
            "Random training sample index: 15822\n",
            "Label: 4\n",
            "Flattened image: [0.         0.         0.         0.         0.         0.\n",
            " 0.         0.         0.         0.         0.         0.\n",
            " 0.         0.         0.         0.         0.         0.\n",
            " 0.         0.         0.         0.         0.         0.\n",
            " 0.         0.         0.         0.         0.         0.\n",
            " 0.         0.         0.         0.         0.         0.\n",
            " 0.         0.         0.         0.         0.         0.\n",
            " 0.         0.         0.         0.         0.         0.\n",
            " 0.         0.         0.         0.         0.         0.\n",
            " 0.         0.         0.         0.         0.         0.\n",
            " 0.         0.         0.         0.         0.         0.\n",
            " 0.         0.         0.         0.         0.         0.\n",
            " 0.         0.         0.         0.         0.         0.\n",
            " 0.         0.         0.         0.         0.         0.\n",
            " 0.         0.         0.         0.         0.         0.\n",
            " 0.         0.         0.         0.         0.         0.\n",
            " 0.         0.         0.         0.         0.         0.\n",
            " 0.         0.         0.         0.         0.         0.\n",
            " 0.         0.         0.         0.         0.         0.\n",
            " 0.         0.         0.         0.         0.         0.\n",
            " 0.         0.         0.         0.         0.         0.\n",
            " 0.         0.         0.         0.         0.         0.\n",
            " 0.         0.         0.         0.         0.         0.\n",
            " 0.         0.         0.         0.         0.         0.\n",
            " 0.         0.         0.         0.         0.         0.\n",
            " 0.         0.         0.         0.         0.         0.\n",
            " 0.         0.         0.         0.         0.         0.\n",
            " 0.         0.         0.         0.         0.         0.\n",
            " 0.         0.         0.         0.         0.         0.\n",
            " 0.         0.         0.         0.         0.         0.\n",
            " 0.         0.         0.         0.06666667 0.627451   0.99215686\n",
            " 0.70980394 0.03529412 0.         0.         0.         0.\n",
            " 0.         0.         0.         0.         0.         0.\n",
            " 0.         0.         0.         0.05098039 0.18431373 0.10196079\n",
            " 0.         0.         0.         0.         0.         0.\n",
            " 0.         0.72156864 0.9882353  0.9882353  0.99215686 0.36078432\n",
            " 0.         0.         0.         0.         0.         0.\n",
            " 0.         0.         0.         0.         0.         0.\n",
            " 0.         0.39607844 0.9882353  0.8666667  0.         0.\n",
            " 0.         0.         0.         0.         0.         0.72156864\n",
            " 0.9882353  0.9882353  0.99215686 0.36078432 0.         0.\n",
            " 0.         0.         0.         0.         0.         0.\n",
            " 0.         0.         0.         0.         0.         0.72156864\n",
            " 0.9882353  0.9882353  0.16862746 0.         0.         0.\n",
            " 0.         0.         0.         0.72156864 0.9882353  0.9882353\n",
            " 0.99215686 0.36078432 0.         0.         0.         0.\n",
            " 0.         0.         0.         0.         0.         0.\n",
            " 0.         0.         0.37254903 0.9647059  0.9882353  0.9882353\n",
            " 0.04313726 0.         0.         0.         0.         0.\n",
            " 0.         0.72156864 0.9882353  0.9882353  0.99215686 0.56078434\n",
            " 0.         0.         0.         0.         0.         0.\n",
            " 0.         0.         0.         0.         0.         0.\n",
            " 0.63529414 0.99215686 0.99215686 0.99215686 0.         0.\n",
            " 0.         0.         0.         0.         0.         0.7254902\n",
            " 0.99215686 0.99215686 1.         0.8117647  0.         0.\n",
            " 0.         0.         0.         0.         0.         0.\n",
            " 0.         0.         0.         0.         0.6313726  0.9882353\n",
            " 0.9882353  0.9882353  0.         0.         0.         0.\n",
            " 0.         0.         0.03529412 0.77254903 0.9882353  0.9882353\n",
            " 0.99215686 0.80784315 0.         0.         0.         0.\n",
            " 0.         0.         0.         0.         0.         0.\n",
            " 0.         0.         0.6313726  0.9882353  0.9882353  0.9882353\n",
            " 0.27450982 0.5568628  0.72156864 0.72156864 0.72156864 0.7254902\n",
            " 0.77254903 0.9882353  0.9882353  0.9882353  0.99215686 0.80784315\n",
            " 0.         0.         0.         0.         0.         0.\n",
            " 0.         0.         0.         0.         0.         0.\n",
            " 0.6313726  0.9882353  0.9882353  0.9882353  0.99215686 0.9882353\n",
            " 0.9882353  0.9882353  0.9882353  0.99215686 0.9882353  0.9882353\n",
            " 0.9882353  0.9882353  0.99215686 0.80784315 0.         0.\n",
            " 0.         0.         0.         0.         0.         0.\n",
            " 0.         0.         0.         0.         0.6313726  0.9882353\n",
            " 0.9882353  0.9882353  0.99215686 0.9882353  0.9882353  0.9882353\n",
            " 0.9882353  0.99215686 0.9882353  0.9882353  0.9882353  0.9882353\n",
            " 0.99215686 0.80784315 0.         0.         0.         0.\n",
            " 0.         0.         0.         0.         0.         0.\n",
            " 0.         0.         0.5764706  0.92941177 0.99215686 0.99215686\n",
            " 0.65882355 0.45490196 0.45490196 0.45490196 0.45490196 0.20784314\n",
            " 0.2901961  0.57254905 0.9764706  0.99215686 1.         0.8117647\n",
            " 0.         0.         0.         0.         0.         0.\n",
            " 0.         0.         0.         0.         0.         0.\n",
            " 0.         0.09803922 0.36078432 0.36078432 0.         0.\n",
            " 0.         0.         0.         0.         0.         0.\n",
            " 0.8117647  0.9882353  0.99215686 0.8392157  0.05098039 0.\n",
            " 0.         0.         0.         0.         0.         0.\n",
            " 0.         0.         0.         0.         0.         0.\n",
            " 0.         0.         0.         0.         0.         0.\n",
            " 0.         0.         0.         0.         0.8117647  0.9882353\n",
            " 0.99215686 0.9882353  0.27058825 0.         0.         0.\n",
            " 0.         0.         0.         0.         0.         0.\n",
            " 0.         0.         0.         0.         0.         0.\n",
            " 0.         0.         0.         0.         0.         0.\n",
            " 0.         0.         0.8117647  0.9882353  0.99215686 0.9882353\n",
            " 0.27058825 0.         0.         0.         0.         0.\n",
            " 0.         0.         0.         0.         0.         0.\n",
            " 0.         0.         0.         0.         0.         0.\n",
            " 0.         0.         0.         0.         0.         0.\n",
            " 0.60784316 0.9882353  0.99215686 0.9882353  0.27058825 0.\n",
            " 0.         0.         0.         0.         0.         0.\n",
            " 0.         0.         0.         0.         0.         0.\n",
            " 0.         0.         0.         0.         0.         0.\n",
            " 0.         0.         0.         0.         0.16862746 0.94509804\n",
            " 1.         0.99215686 0.87058824 0.09803922 0.         0.\n",
            " 0.         0.         0.         0.         0.         0.\n",
            " 0.         0.         0.         0.         0.         0.\n",
            " 0.         0.         0.         0.         0.         0.\n",
            " 0.         0.         0.         0.9019608  0.99215686 0.9882353\n",
            " 0.9882353  0.1764706  0.         0.         0.         0.\n",
            " 0.         0.         0.         0.         0.         0.\n",
            " 0.         0.         0.         0.         0.         0.\n",
            " 0.         0.         0.         0.         0.         0.\n",
            " 0.         0.9019608  0.99215686 0.9882353  0.9137255  0.12941177\n",
            " 0.         0.         0.         0.         0.         0.\n",
            " 0.         0.         0.         0.         0.         0.\n",
            " 0.         0.         0.         0.         0.         0.\n",
            " 0.         0.         0.         0.         0.         0.9019608\n",
            " 0.99215686 0.8392157  0.12941177 0.         0.         0.\n",
            " 0.         0.         0.         0.         0.         0.\n",
            " 0.         0.         0.         0.         0.         0.\n",
            " 0.         0.         0.         0.         0.         0.\n",
            " 0.         0.         0.         0.28627452 0.5019608  0.07058824\n",
            " 0.         0.         0.         0.         0.         0.\n",
            " 0.         0.         0.         0.         0.         0.\n",
            " 0.         0.         0.         0.         0.         0.\n",
            " 0.         0.         0.         0.         0.         0.\n",
            " 0.         0.         0.         0.         0.         0.\n",
            " 0.         0.         0.         0.         0.         0.\n",
            " 0.         0.         0.         0.         0.         0.\n",
            " 0.         0.         0.         0.         0.         0.\n",
            " 0.         0.         0.         0.         0.         0.\n",
            " 0.         0.         0.         0.         0.         0.\n",
            " 0.         0.         0.         0.        ]\n"
          ]
        }
      ]
    },
    {
      "cell_type": "markdown",
      "metadata": {
        "id": "NvzokQbjsasE"
      },
      "source": [
        "## **Q2: Exploratory Data Analysis (EDA)**\n",
        "\n",
        "Before training your model, it's important to understand the structure and characteristics of the data. In this section, you'll perform several exploratory tasks to gain insight into the MNIST dataset.\n",
        "\n",
        "### **Q2.1: Class Distribution**\n",
        "\n",
        "Explore the distribution of digit classes in the training dataset.\n",
        "\n",
        "- How many samples are there for each digit (0–9)?\n",
        "- Is the dataset balanced?\n",
        "\n",
        "Knowing if your dataset is imbalanced can help you choose the right evaluation metrics and model tuning techniques.\n",
        "\n",
        "Tasks:\n",
        "- Count the number of training samples per class.\n",
        "- Plot a bar chart to visualize the distribution.\n",
        "\n"
      ]
    },
    {
      "cell_type": "code",
      "execution_count": null,
      "metadata": {
        "id": "BEOAlJE2say0"
      },
      "outputs": [],
      "source": [
        "# Count how many examples we have of each digit (0 to 9)\n",
        "unique_classes, counts = np.unique(y_train, return_counts=True)\n"
      ]
    },
    {
      "cell_type": "code",
      "source": [
        "# Plot the distribution\n",
        "\n",
        "plt.figure(figsize=(8, 5))\n",
        "plt.bar(unique_classes, counts)\n",
        "plt.xlabel('Digit')\n",
        "plt.ylabel('Number of Samples')\n",
        "plt.title('Training Samples per Digit Class')\n",
        "plt.xticks(unique_classes)\n",
        "plt.grid(axis='y', linestyle='--', alpha=0.6)\n",
        "plt.show()"
      ],
      "metadata": {
        "id": "aIwg3dCqMuWf",
        "colab": {
          "base_uri": "https://localhost:8080/",
          "height": 487
        },
        "outputId": "99eadb56-4753-425e-efa3-e592158c8e42"
      },
      "execution_count": null,
      "outputs": [
        {
          "output_type": "display_data",
          "data": {
            "text/plain": [
              "<Figure size 800x500 with 1 Axes>"
            ],
            "image/png": "[encoded data removed]"
          },
          "metadata": {}
        }
      ]
    },
    {
      "cell_type": "markdown",
      "source": [
        "### **Q2.2: Visualizing Handwritten Digits**\n",
        "\n",
        "It's important to understand what the input to your classifier looks like.\n",
        "\n",
        "Looking at real examples can help you debug preprocessing steps, understand data variation, and build intuition about what makes digits similar or different.\n",
        "\n",
        "Tasks:\n",
        "- Write or use a helper function to visualize the first few images in the training set.\n",
        "- Display 10 example digits with their corresponding labels.\n",
        "\n",
        "Tip: Each image is 28×28 pixels and stored as a flattened array of length 784. You’ll need to reshape it for visualization."
      ],
      "metadata": {
        "id": "EnHgxFtPBkp0"
      }
    },
    {
      "cell_type": "code",
      "source": [
        "def visualize_digits(X_digits, y_digits, num_images=10):\n",
        "    \"\"\"\n",
        "    Visualizes the first few images and their labels from the MNIST dataset.\n",
        "\n",
        "    Args:\n",
        "        X_digits (numpy.ndarray): Flattened 28x28 images.\n",
        "        y_digits (numpy.ndarray): Corresponding labels.\n",
        "        num_images (int): Number of images to visualize.\n",
        "    \"\"\"\n",
        "    rows = 2\n",
        "    cols = (num_images + 1) // 2\n",
        "    plt.figure(figsize=(1.5 * cols, 3))\n",
        "\n",
        "    for i in range(num_images):\n",
        "        plt.subplot(rows, cols, i + 1)\n",
        "        image = X_digits[i].reshape(28, 28)\n",
        "        plt.imshow(image, cmap='gray')\n",
        "        plt.title(f\"Label: {y_digits[i]}\")\n",
        "        plt.axis('off')\n",
        "\n",
        "    plt.tight_layout()\n",
        "    plt.show()\n",
        "\n",
        "    # Complete this function"
      ],
      "metadata": {
        "id": "t6lCPJm0vsvu"
      },
      "execution_count": null,
      "outputs": []
    },
    {
      "cell_type": "markdown",
      "source": [],
      "metadata": {
        "id": "J6GCfq5r_tuH"
      }
    },
    {
      "cell_type": "code",
      "source": [
        "# Call the function `visualize_digits` to visualize the first 10 digits\n",
        "visualize_digits(X_train, y_train)\n",
        "\n"
      ],
      "metadata": {
        "id": "lO6eKaO9CgdR",
        "colab": {
          "base_uri": "https://localhost:8080/",
          "height": 309
        },
        "outputId": "de559fb2-d1ae-4e72-d032-460ec4a30ca3"
      },
      "execution_count": null,
      "outputs": [
        {
          "output_type": "display_data",
          "data": {
            "text/plain": [
              "<Figure size 750x300 with 10 Axes>"
            ],
            "image/png": "[encoded data removed]"
          },
          "metadata": {}
        }
      ]
    },
    {
      "cell_type": "markdown",
      "source": [
        "### **Q2.3: Pixel Intensity Statistics**\n",
        "\n",
        "Each pixel in the MNIST images is a grayscale value between 0 and 1 . Understanding pixel value distributions can help you debug normalization issues and gain insights into the dataset's contrast and sparsity.\n",
        "\n",
        "Tasks:\n",
        "- Compute the **mean**, **median**, and **standard deviation** of the pixel values in the training set.\n",
        "- Based on these stats, are most pixels dark (close to 0) or bright (close to 1)?"
      ],
      "metadata": {
        "id": "JaApUC_tBoWU"
      }
    },
    {
      "cell_type": "code",
      "source": [
        "# Calculate and print basic statistics of pixel intensity\n",
        "mean_intensity = X_train.mean()\n",
        "median_intensity = np.median(X_train)\n",
        "std_intensity = X_train.std()\n",
        "\n",
        "print(f\"Mean pixel value: {mean_intensity:.4f}\")\n",
        "print(f\"Median pixel value: {median_intensity:.4f}\")\n",
        "print(f\"Standard deviation of pixel values: {std_intensity:.4f}\")"
      ],
      "metadata": {
        "id": "z_6Dg6-pBq-N",
        "colab": {
          "base_uri": "https://localhost:8080/"
        },
        "outputId": "c6c93207-83b1-42c8-930c-a61a62f2cd12"
      },
      "execution_count": null,
      "outputs": [
        {
          "output_type": "stream",
          "name": "stdout",
          "text": [
            "Mean pixel value: 0.1307\n",
            "Median pixel value: 0.0000\n",
            "Standard deviation of pixel values: 0.3081\n"
          ]
        }
      ]
    },
    {
      "cell_type": "markdown",
      "source": [
        "## **Q3: Implementing a Multi-Class Linear SVM from Scratch**\n",
        "\n",
        "In this section, you will build a **multi-class Support Vector Machine (SVM)** classifier **from scratch**, using **Stochastic Gradient Descent (SGD)** and a **one-vs-rest (OvR)** strategy.\n",
        "\n",
        "SVM is originally designed for binary classification. To handle all 10 digits in MNIST, we will train **10 binary classifiers** — one for each digit. Each classifier will distinguish between one digit (e.g., 7) and all other digits (not 7).\n",
        "\n",
        "Then, at prediction time, you will apply all 10 classifiers to a test example and choose the one with the **highest score**.\n",
        "\n",
        "### **Q3.1: Train a Binary Linear SVM Classifier**\n",
        "\n",
        "Implement a function that trains a **binary linear SVM** using stochastic gradient descent. Use the **hinge loss gradient** update rule.\n",
        "\n",
        "Your function should:\n",
        "- Accept training data `X` and labels `y`\n",
        "- Initialize weights `w` and bias `b`\n",
        "- Convert all labels to -1 or +1\n",
        "- Iterate through the data and apply the gradient update\n",
        "- Return the learned weight vector `w` and bias `b`"
      ],
      "metadata": {
        "id": "b4_lmDXoDDu5"
      }
    },
    {
      "cell_type": "markdown",
      "source": [
        "#### Step 1: Compute the condition\n",
        "\n",
        "$$\n",
        "\\text{condition} = y_i \\cdot (w^T x_i + b) \\geq 1\n",
        "$$\n",
        "\n",
        "---\n",
        "\n",
        "#### Step 2: Apply the update rule\n",
        "\n",
        "If the condition is satisfied:\n",
        "\n",
        "$$\n",
        "w \\leftarrow w - \\eta \\cdot 2\\lambda w\n",
        "$$\n",
        "\n",
        "If the condition is **not** satisfied:\n",
        "\n",
        "$$\n",
        "w \\leftarrow w - \\eta \\cdot (2\\lambda w - y_i x_i)\n",
        "$$\n",
        "\n",
        "$$\n",
        "b \\leftarrow b - \\eta \\cdot y_i\n",
        "$$\n",
        "\n",
        "---\n",
        "\n",
        "Where:\n",
        "\n",
        "- $ \\eta $ is the **learning rate**\n",
        "- $ \\lambda $ is the **regularization strength**\n",
        "- $ w $ is the weight vector\n",
        "- $ b $ is the bias term\n",
        "- $ y_i \\in \\{-1, +1\\} $"
      ],
      "metadata": {
        "id": "qB12isxUOb3q"
      }
    },
    {
      "cell_type": "code",
      "source": [
        "def sgd_svm_train(X, y, learning_rate=0.001, lambda_param=0.01, epochs=1000):\n",
        "    \"\"\"\n",
        "    Trains a binary linear SVM using stochastic gradient descent.\n",
        "\n",
        "    Args:\n",
        "        X (np.ndarray): Input data of shape (n_samples, n_features)\n",
        "        y (np.ndarray): Labels (-1 or +1)\n",
        "        learning_rate (float): Learning rate for SGD\n",
        "        lambda_param (float): Regularization strength\n",
        "        epochs (int): Number of passes through the training data\n",
        "\n",
        "    Returns:\n",
        "        w (np.ndarray): Learned weight vector\n",
        "        b (float): Learned bias\n",
        "    \"\"\"\n",
        "    n_samples, n_features = X.shape\n",
        "    w = np.zeros(n_features)\n",
        "    b = 0\n",
        "\n",
        "    for epoch in range(epochs):\n",
        "        indices = np.random.permutation(n_samples)\n",
        "        for idx in indices:\n",
        "            xi = X[idx]\n",
        "            yi = y[idx]\n",
        "            condition = yi * (np.dot(w, xi) + b) >= 1\n",
        "\n",
        "            if condition:\n",
        "                w -= learning_rate * (2 * lambda_param * w)\n",
        "            else:\n",
        "                w -= learning_rate * (2 * lambda_param * w - yi * xi)\n",
        "                b -= learning_rate * yi\n",
        "            #Write your code here\n",
        "\n",
        "    return w, b"
      ],
      "metadata": {
        "id": "bL5HF6KADBHC"
      },
      "execution_count": null,
      "outputs": []
    },
    {
      "cell_type": "markdown",
      "source": [
        "### **Q3.2: Train a One-vs-Rest Multi-Class SVM**\n",
        "\n",
        "Now implement a wrapper function to train **one SVM per class (0 through 9)**.\n",
        "\n",
        "Each classifier will:\n",
        "- Treat one digit as **positive (+1)**\n",
        "- Treat all other digits as **negative (-1)**\n",
        "- Call your function from Q3.1 to train the binary classifier\n",
        "\n",
        "The function should return:\n",
        "- A list of 10 weight vectors (one for each class)\n",
        "- A list of 10 bias values (one for each class)"
      ],
      "metadata": {
        "id": "A9IOV_vGLhiV"
      }
    },
    {
      "cell_type": "code",
      "source": [
        "def train_ovr_svm(X, y, num_classes=10, learning_rate=0.001, lambda_param=0.01, epochs=1000):\n",
        "    \"\"\"\n",
        "    Trains one-vs-rest SVM classifiers for multi-class classification.\n",
        "\n",
        "    Args:\n",
        "        X (np.ndarray): Training data\n",
        "        y (np.ndarray): Digit labels (0 to 9)\n",
        "        num_classes (int): Number of classes (default: 10)\n",
        "        learning_rate (float): Learning rate for SGD\n",
        "        lambda_param (float): Regularization strength\n",
        "        epochs (int): Number of training epochs\n",
        "\n",
        "    Returns:\n",
        "        weights (list of np.ndarray): List of weight vectors, one per class\n",
        "        biases (list of float): List of bias values, one per class\n",
        "    \"\"\"\n",
        "    weights = []\n",
        "    biases = []\n",
        "\n",
        "    for digit in range(num_classes):\n",
        "        #write your code here\n",
        "\n",
        "\n",
        "        # convert labels: +1 for current digit, -1 for others\n",
        "        y_binary = np.where(y == digit, 1, -1)\n",
        "\n",
        "        # train binary classifier\n",
        "        w, b = sgd_svm_train(X, y_binary, learning_rate, lambda_param, epochs)\n",
        "\n",
        "        weights.append(w)\n",
        "        biases.append(b)\n",
        "\n",
        "    return weights, biases"
      ],
      "metadata": {
        "id": "8CZwTCVNLsGJ"
      },
      "execution_count": null,
      "outputs": []
    },
    {
      "cell_type": "markdown",
      "source": [
        "### **Q3.3: Predict with the Multi-Class Classifier**\n",
        "\n",
        "Implement a prediction function that uses the trained one-vs-rest classifiers to make predictions.\n",
        "\n",
        "For each input sample:\n",
        "- Compute the decision score for each class (i.e., dot product + bias)\n",
        "- Select the class with the **highest score**\n",
        "\n",
        "Return a vector of predicted class labels."
      ],
      "metadata": {
        "id": "U3qv1ipFLsmx"
      }
    },
    {
      "cell_type": "code",
      "source": [
        "def decision_function(X, w, b):\n",
        "    \"\"\"\n",
        "    Computes decision scores: w^T x + b\n",
        "    \"\"\"\n",
        "    #write your code here\n",
        "    return np.dot(X, w) + b\n",
        "\n",
        "def predict_ovr(X, weights, biases):\n",
        "    \"\"\"\n",
        "    Predicts class labels using one-vs-rest classifiers.\n",
        "\n",
        "    Args:\n",
        "        X (np.ndarray): Input data\n",
        "        weights (list of np.ndarray): List of learned weight vectors\n",
        "        biases (list of float): List of learned biases\n",
        "\n",
        "    Returns:\n",
        "        np.ndarray: Predicted class labels\n",
        "    \"\"\"\n",
        "\n",
        "    #write your code here\n",
        "    scores = np.array([decision_function(X, w, b) for w, b in zip(weights, biases)])  # shape: (10, n_samples)\n",
        "\n",
        "    predictions = np.argmax(scores.T, axis=1)\n",
        "\n",
        "    return predictions"
      ],
      "metadata": {
        "id": "YAMA5CR1LxTT"
      },
      "execution_count": null,
      "outputs": []
    },
    {
      "cell_type": "markdown",
      "source": [
        "### **Q3.4: Evaluate Your Classifier**\n",
        "\n",
        "Evaluate the performance of your model using **accuracy**.\n",
        "\n",
        "To keep training time reasonable, use a **subset** of the MNIST dataset:\n",
        "- e.g., train on the first 10,000 training samples\n",
        "- evaluate on the first 2,000 test samples\n",
        "\n",
        "You may also optionally:\n",
        "- Print a confusion matrix\n",
        "- Try the full dataset (if your code runs fast enough)\n",
        "\n",
        "Use `sklearn.metrics.accuracy_score()` for evaluation."
      ],
      "metadata": {
        "id": "v-woA8dtLx3t"
      }
    },
    {
      "cell_type": "code",
      "source": [
        "from sklearn.metrics import accuracy_score, confusion_matrix, classification_report\n",
        "import seaborn as sns\n",
        "import matplotlib.pyplot as plt\n",
        "import pandas as pd\n",
        "\n",
        "# Use a smaller subset to keep training fast\n",
        "X_train_subset = X_train[:2000]\n",
        "y_train_subset = y_train[:2000]\n",
        "X_test_subset = X_test[:500]\n",
        "y_test_subset = y_test[:500]\n",
        "\n",
        "# Train the OvR SVM\n",
        "weights, biases = train_ovr_svm(X_train_subset, y_train_subset, epochs=100)\n",
        "\n",
        "# Predict\n",
        "y_pred = predict_ovr(X_test_subset, weights, biases)\n",
        "\n",
        "\n",
        "# Accuracy\n",
        "accuracy = accuracy_score(y_test_subset, y_pred)\n",
        "print(f\"Accuracy on test subset: {accuracy:.4f}\")"
      ],
      "metadata": {
        "id": "vQXsph-oLzff",
        "colab": {
          "base_uri": "https://localhost:8080/"
        },
        "outputId": "6f743fc4-7270-4b40-d899-54cb5e467f55"
      },
      "execution_count": null,
      "outputs": [
        {
          "output_type": "stream",
          "name": "stdout",
          "text": [
            "Accuracy on test subset: 0.7560\n"
          ]
        }
      ]
    },
    {
      "cell_type": "markdown",
      "metadata": {
        "id": "jKjBw0Mlsbvy"
      },
      "source": [
        "## **Q4: Hyperparameter Tuning with GridSearchCV**\n",
        "\n",
        "In this section, you will use **`GridSearchCV`** to automatically search for the best hyperparameters for a Support Vector Machine (SVM) classifier on the MNIST dataset.\n",
        "\n",
        "Instead of manually trying different combinations of `C`, `gamma`, and `kernel`, you’ll let `GridSearchCV` handle the search and evaluation using cross-validation.\n",
        "\n",
        "\n",
        "* We will use `GridSearchCV` to find the **best model** by performing **hyperparameter tuning**.\n",
        "\n",
        "---\n",
        "\n",
        "1. Define a parameter grid with combinations of `C`, `gamma`, and `kernel`.\n",
        "2. Use `GridSearchCV` to train and select the best model from that grid.\n",
        "3. Fit the model on the training data.\n",
        "4. Return:\n",
        "   - The **best estimator** (`best_estimator_`)\n",
        "   - The test data (`X_test`, `y_test`) for future evaluation\n",
        "\n",
        "- Hint: Use a **smaller subset of the MNIST data** (e.g., 2,000 training and 500 test samples) to make tuning run faster.\n"
      ]
    },
    {
      "cell_type": "code",
      "execution_count": null,
      "metadata": {
        "id": "JtjRUvrOw6hC"
      },
      "outputs": [],
      "source": [
        "def tune_svm(X_train, y_train, X_test, y_test):\n",
        "    \"\"\"\n",
        "    Performs hyperparameter tuning for the SVM model using GridSearchCV.\n",
        "\n",
        "    Args:\n",
        "        X_train (numpy.ndarray): Training features.\n",
        "        y_train (numpy.ndarray): Training labels.\n",
        "        X_test (numpy.ndarray): Test features.\n",
        "        y_test (numpy.ndarray): Test labels.\n",
        "\n",
        "    Returns:\n",
        "        tuple: A tuple containing:\n",
        "            - best_estimator_ (SVC): The best model found by GridSearchCV.\n",
        "            - X_test (numpy.ndarray): The test set features.\n",
        "            - y_test (numpy.ndarray): The test set targets.\n",
        "    \"\"\"\n",
        "    param_grid = {\n",
        "        'C': [0.1, 1, 10, 100],\n",
        "        'gamma': [0.001, 0.0001],\n",
        "        'kernel': ['rbf', 'poly', 'linear']\n",
        "    }\n",
        "\n",
        "    svc = SVC()\n",
        "    grid = GridSearchCV(svc, param_grid, cv=3, verbose=1, n_jobs=-1)\n",
        "    grid.fit(X_train, y_train)\n",
        "\n",
        "    print(\"Best parameters found:\")\n",
        "    print(grid.best_params_)\n",
        "\n",
        "    return grid.best_estimator_, X_test, y_test"
      ]
    },
    {
      "cell_type": "code",
      "source": [
        "# Use a smaller subset of the data\n",
        "X_train_small = X_train[:2000]\n",
        "y_train_small = y_train[:2000]\n",
        "X_test_small = X_test[:500]\n",
        "y_test_small = y_test[:500]\n",
        "\n",
        "# Run grid search on the smaller subset. Call `tune_svm()`\n",
        "best_model, X_eval, y_eval = tune_svm(X_train_small, y_train_small, X_test_small, y_test_small)\n"
      ],
      "metadata": {
        "id": "ni6YE4IVQgjF",
        "colab": {
          "base_uri": "https://localhost:8080/"
        },
        "outputId": "95198b8e-68ba-4f77-81bd-dab4456803c7"
      },
      "execution_count": null,
      "outputs": [
        {
          "output_type": "stream",
          "name": "stdout",
          "text": [
            "Fitting 3 folds for each of 24 candidates, totalling 72 fits\n",
            "Best parameters found:\n",
            "{'C': 10, 'gamma': 0.001, 'kernel': 'rbf'}\n"
          ]
        }
      ]
    },
    {
      "cell_type": "markdown",
      "source": [
        "## **Q5: Evaluate the Best Model**\n",
        "\n",
        "Now that you have selected the best model using `GridSearchCV`, it's time to **evaluate its performance** on the test set.\n",
        "\n",
        "You will implement a function called `evaluate_model()` to do the following:\n",
        "\n",
        "---\n",
        "\n",
        "### **Your Task**\n",
        "\n",
        "- Use the trained `SVC` model to predict labels on the test set.\n",
        "- Generate a **confusion matrix** and plot it using `seaborn.heatmap()`.\n",
        "- Print out a **classification report** showing:\n",
        "  - Precision\n",
        "  - Recall\n",
        "  - F1-score"
      ],
      "metadata": {
        "id": "_F9zeLxtUMCr"
      }
    },
    {
      "cell_type": "code",
      "execution_count": null,
      "metadata": {
        "id": "hQjrK0mAsbKU"
      },
      "outputs": [],
      "source": [
        "def evaluate_model(model, X_test, y_test):\n",
        "    \"\"\"\n",
        "    Predicts using the model and evaluates the performance on the test set.\n",
        "    Implements a confusion_matrix plot using seaborn.\n",
        "    Prints the precision, recall, and F1 scores using classification_report().\n",
        "\n",
        "    Args:\n",
        "        model (SVC): The trained SVM model.\n",
        "        X_test (numpy.ndarray): The test set features.\n",
        "        y_test (numpy.ndarray): The test set targets.\n",
        "    \"\"\"\n",
        "    # Predict labels\n",
        "    predictions = model.predict(X_test)\n",
        "\n",
        "    # Compute confusion matrix\n",
        "    cm = confusion_matrix(y_test, predictions)\n",
        "\n",
        "    # Plot confusion matrix\n",
        "    plt.figure(figsize=(10, 7))\n",
        "    sns.heatmap(cm, annot=True, fmt='d', cmap='Blues', xticklabels=range(10), yticklabels=range(10))\n",
        "    plt.xlabel('Predicted')\n",
        "    plt.ylabel('True')\n",
        "    plt.title('Confusion Matrix')\n",
        "    plt.show()\n",
        "\n",
        "\n",
        "\n",
        "    # Print precision, recall, F1-score\n",
        "    print(\"Classification Report:\")\n",
        "    print(classification_report(y_test, predictions))"
      ]
    },
    {
      "cell_type": "code",
      "source": [
        "evaluate_model(best_model, X_eval, y_eval)"
      ],
      "metadata": {
        "id": "2cvCVf73vgdH",
        "colab": {
          "base_uri": "https://localhost:8080/",
          "height": 962
        },
        "outputId": "223e012e-1b22-42f3-f755-3c902d8fe391"
      },
      "execution_count": null,
      "outputs": [
        {
          "output_type": "display_data",
          "data": {
            "text/plain": [
              "<Figure size 1000x700 with 2 Axes>"
            ],
            "image/png": "[encoded data removed]"
          },
          "metadata": {}
        },
        {
          "output_type": "stream",
          "name": "stdout",
          "text": [
            "Classification Report:\n",
            "              precision    recall  f1-score   support\n",
            "\n",
            "           0       0.93      0.95      0.94        42\n",
            "           1       0.99      1.00      0.99        67\n",
            "           2       0.85      0.93      0.89        55\n",
            "           3       0.94      0.76      0.84        45\n",
            "           4       0.90      0.96      0.93        55\n",
            "           5       0.80      0.88      0.84        50\n",
            "           6       1.00      0.88      0.94        43\n",
            "           7       0.83      0.88      0.85        49\n",
            "           8       0.94      0.82      0.88        40\n",
            "           9       0.89      0.89      0.89        54\n",
            "\n",
            "    accuracy                           0.90       500\n",
            "   macro avg       0.91      0.90      0.90       500\n",
            "weighted avg       0.91      0.90      0.90       500\n",
            "\n"
          ]
        }
      ]
    }
  ],
  "metadata": {
    "colab": {
      "provenance": []
    },
    "kernelspec": {
      "display_name": "default",
      "language": "python",
      "name": "default"
    },
    "language_info": {
      "codemirror_mode": {
        "name": "ipython",
        "version": 3
      },
      "file_extension": ".py",
      "mimetype": "text/x-python",
      "name": "python",
      "nbconvert_exporter": "python",
      "pygments_lexer": "ipython3",
      "version": "3.10.4"
    }
  },
  "nbformat": 4,
  "nbformat_minor": 0
}